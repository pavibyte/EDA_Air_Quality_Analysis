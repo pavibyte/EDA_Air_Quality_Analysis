{
 "cells": [
  {
   "cell_type": "code",
   "execution_count": 1,
   "id": "3a802a3f",
   "metadata": {
    "_cell_guid": "b1076dfc-b9ad-4769-8c92-a6c4dae69d19",
    "_uuid": "8f2839f25d086af736a60e9eeb907d3b93b6e0e5",
    "execution": {
     "iopub.execute_input": "2025-09-13T13:56:36.860809Z",
     "iopub.status.busy": "2025-09-13T13:56:36.860271Z",
     "iopub.status.idle": "2025-09-13T13:56:38.705676Z",
     "shell.execute_reply": "2025-09-13T13:56:38.704558Z"
    },
    "papermill": {
     "duration": 1.857521,
     "end_time": "2025-09-13T13:56:38.707233",
     "exception": false,
     "start_time": "2025-09-13T13:56:36.849712",
     "status": "completed"
    },
    "tags": []
   },
   "outputs": [
    {
     "name": "stdout",
     "output_type": "stream",
     "text": [
      "/kaggle/input/air-quality-data-in-india/stations.csv\n",
      "/kaggle/input/air-quality-data-in-india/station_hour.csv\n",
      "/kaggle/input/air-quality-data-in-india/city_day.csv\n",
      "/kaggle/input/air-quality-data-in-india/city_hour.csv\n",
      "/kaggle/input/air-quality-data-in-india/station_day.csv\n"
     ]
    }
   ],
   "source": [
    "# This Python 3 environment comes with many helpful analytics libraries installed\n",
    "# It is defined by the kaggle/python Docker image: https://github.com/kaggle/docker-python\n",
    "# For example, here's several helpful packages to load\n",
    "\n",
    "import numpy as np # linear algebra\n",
    "import pandas as pd # data processing, CSV file I/O (e.g. pd.read_csv)\n",
    "\n",
    "# Input data files are available in the read-only \"../input/\" directory\n",
    "# For example, running this (by clicking run or pressing Shift+Enter) will list all files under the input directory\n",
    "\n",
    "import os\n",
    "for dirname, _, filenames in os.walk('/kaggle/input'):\n",
    "    for filename in filenames:\n",
    "        print(os.path.join(dirname, filename))\n",
    "\n",
    "# You can write up to 20GB to the current directory (/kaggle/working/) that gets preserved as output when you create a version using \"Save & Run All\" \n",
    "# You can also write temporary files to /kaggle/temp/, but they won't be saved outside of the current session"
   ]
  },
  {
   "cell_type": "code",
   "execution_count": 2,
   "id": "e16396c5",
   "metadata": {
    "execution": {
     "iopub.execute_input": "2025-09-13T13:56:38.721292Z",
     "iopub.status.busy": "2025-09-13T13:56:38.720890Z",
     "iopub.status.idle": "2025-09-13T13:56:38.725206Z",
     "shell.execute_reply": "2025-09-13T13:56:38.724483Z"
    },
    "papermill": {
     "duration": 0.012835,
     "end_time": "2025-09-13T13:56:38.726639",
     "exception": false,
     "start_time": "2025-09-13T13:56:38.713804",
     "status": "completed"
    },
    "tags": []
   },
   "outputs": [],
   "source": [
    "import warnings\n",
    "\n",
    "warnings.filterwarnings(\"ignore\")\n"
   ]
  },
  {
   "cell_type": "markdown",
   "id": "96ad6024",
   "metadata": {
    "papermill": {
     "duration": 0.005807,
     "end_time": "2025-09-13T13:56:38.738744",
     "exception": false,
     "start_time": "2025-09-13T13:56:38.732937",
     "status": "completed"
    },
    "tags": []
   },
   "source": [
    "## 1- for predicting daily AQI Buckets"
   ]
  },
  {
   "cell_type": "code",
   "execution_count": 3,
   "id": "e72c5d0e",
   "metadata": {
    "execution": {
     "iopub.execute_input": "2025-09-13T13:56:38.752429Z",
     "iopub.status.busy": "2025-09-13T13:56:38.752142Z",
     "iopub.status.idle": "2025-09-13T13:56:38.879099Z",
     "shell.execute_reply": "2025-09-13T13:56:38.878253Z"
    },
    "papermill": {
     "duration": 0.135859,
     "end_time": "2025-09-13T13:56:38.880541",
     "exception": false,
     "start_time": "2025-09-13T13:56:38.744682",
     "status": "completed"
    },
    "tags": []
   },
   "outputs": [
    {
     "data": {
      "text/html": [
       "<div>\n",
       "<style scoped>\n",
       "    .dataframe tbody tr th:only-of-type {\n",
       "        vertical-align: middle;\n",
       "    }\n",
       "\n",
       "    .dataframe tbody tr th {\n",
       "        vertical-align: top;\n",
       "    }\n",
       "\n",
       "    .dataframe thead th {\n",
       "        text-align: right;\n",
       "    }\n",
       "</style>\n",
       "<table border=\"1\" class=\"dataframe\">\n",
       "  <thead>\n",
       "    <tr style=\"text-align: right;\">\n",
       "      <th></th>\n",
       "      <th>City</th>\n",
       "      <th>Date</th>\n",
       "      <th>PM2.5</th>\n",
       "      <th>PM10</th>\n",
       "      <th>NO</th>\n",
       "      <th>NO2</th>\n",
       "      <th>NOx</th>\n",
       "      <th>NH3</th>\n",
       "      <th>CO</th>\n",
       "      <th>SO2</th>\n",
       "      <th>O3</th>\n",
       "      <th>Benzene</th>\n",
       "      <th>Toluene</th>\n",
       "      <th>Xylene</th>\n",
       "      <th>AQI</th>\n",
       "      <th>AQI_Bucket</th>\n",
       "    </tr>\n",
       "  </thead>\n",
       "  <tbody>\n",
       "    <tr>\n",
       "      <th>0</th>\n",
       "      <td>Ahmedabad</td>\n",
       "      <td>2015-01-01</td>\n",
       "      <td>NaN</td>\n",
       "      <td>NaN</td>\n",
       "      <td>0.92</td>\n",
       "      <td>18.22</td>\n",
       "      <td>17.15</td>\n",
       "      <td>NaN</td>\n",
       "      <td>0.92</td>\n",
       "      <td>27.64</td>\n",
       "      <td>133.36</td>\n",
       "      <td>0.00</td>\n",
       "      <td>0.02</td>\n",
       "      <td>0.00</td>\n",
       "      <td>NaN</td>\n",
       "      <td>NaN</td>\n",
       "    </tr>\n",
       "    <tr>\n",
       "      <th>1</th>\n",
       "      <td>Ahmedabad</td>\n",
       "      <td>2015-01-02</td>\n",
       "      <td>NaN</td>\n",
       "      <td>NaN</td>\n",
       "      <td>0.97</td>\n",
       "      <td>15.69</td>\n",
       "      <td>16.46</td>\n",
       "      <td>NaN</td>\n",
       "      <td>0.97</td>\n",
       "      <td>24.55</td>\n",
       "      <td>34.06</td>\n",
       "      <td>3.68</td>\n",
       "      <td>5.50</td>\n",
       "      <td>3.77</td>\n",
       "      <td>NaN</td>\n",
       "      <td>NaN</td>\n",
       "    </tr>\n",
       "    <tr>\n",
       "      <th>2</th>\n",
       "      <td>Ahmedabad</td>\n",
       "      <td>2015-01-03</td>\n",
       "      <td>NaN</td>\n",
       "      <td>NaN</td>\n",
       "      <td>17.40</td>\n",
       "      <td>19.30</td>\n",
       "      <td>29.70</td>\n",
       "      <td>NaN</td>\n",
       "      <td>17.40</td>\n",
       "      <td>29.07</td>\n",
       "      <td>30.70</td>\n",
       "      <td>6.80</td>\n",
       "      <td>16.40</td>\n",
       "      <td>2.25</td>\n",
       "      <td>NaN</td>\n",
       "      <td>NaN</td>\n",
       "    </tr>\n",
       "    <tr>\n",
       "      <th>3</th>\n",
       "      <td>Ahmedabad</td>\n",
       "      <td>2015-01-04</td>\n",
       "      <td>NaN</td>\n",
       "      <td>NaN</td>\n",
       "      <td>1.70</td>\n",
       "      <td>18.48</td>\n",
       "      <td>17.97</td>\n",
       "      <td>NaN</td>\n",
       "      <td>1.70</td>\n",
       "      <td>18.59</td>\n",
       "      <td>36.08</td>\n",
       "      <td>4.43</td>\n",
       "      <td>10.14</td>\n",
       "      <td>1.00</td>\n",
       "      <td>NaN</td>\n",
       "      <td>NaN</td>\n",
       "    </tr>\n",
       "    <tr>\n",
       "      <th>4</th>\n",
       "      <td>Ahmedabad</td>\n",
       "      <td>2015-01-05</td>\n",
       "      <td>NaN</td>\n",
       "      <td>NaN</td>\n",
       "      <td>22.10</td>\n",
       "      <td>21.42</td>\n",
       "      <td>37.76</td>\n",
       "      <td>NaN</td>\n",
       "      <td>22.10</td>\n",
       "      <td>39.33</td>\n",
       "      <td>39.31</td>\n",
       "      <td>7.01</td>\n",
       "      <td>18.89</td>\n",
       "      <td>2.78</td>\n",
       "      <td>NaN</td>\n",
       "      <td>NaN</td>\n",
       "    </tr>\n",
       "  </tbody>\n",
       "</table>\n",
       "</div>"
      ],
      "text/plain": [
       "        City        Date  PM2.5  PM10     NO    NO2    NOx  NH3     CO    SO2  \\\n",
       "0  Ahmedabad  2015-01-01    NaN   NaN   0.92  18.22  17.15  NaN   0.92  27.64   \n",
       "1  Ahmedabad  2015-01-02    NaN   NaN   0.97  15.69  16.46  NaN   0.97  24.55   \n",
       "2  Ahmedabad  2015-01-03    NaN   NaN  17.40  19.30  29.70  NaN  17.40  29.07   \n",
       "3  Ahmedabad  2015-01-04    NaN   NaN   1.70  18.48  17.97  NaN   1.70  18.59   \n",
       "4  Ahmedabad  2015-01-05    NaN   NaN  22.10  21.42  37.76  NaN  22.10  39.33   \n",
       "\n",
       "       O3  Benzene  Toluene  Xylene  AQI AQI_Bucket  \n",
       "0  133.36     0.00     0.02    0.00  NaN        NaN  \n",
       "1   34.06     3.68     5.50    3.77  NaN        NaN  \n",
       "2   30.70     6.80    16.40    2.25  NaN        NaN  \n",
       "3   36.08     4.43    10.14    1.00  NaN        NaN  \n",
       "4   39.31     7.01    18.89    2.78  NaN        NaN  "
      ]
     },
     "execution_count": 3,
     "metadata": {},
     "output_type": "execute_result"
    }
   ],
   "source": [
    "city_day=pd.read_csv('/kaggle/input/air-quality-data-in-india/city_day.csv')\n",
    "city_day.head()"
   ]
  },
  {
   "cell_type": "code",
   "execution_count": 4,
   "id": "8f653325",
   "metadata": {
    "execution": {
     "iopub.execute_input": "2025-09-13T13:56:38.894948Z",
     "iopub.status.busy": "2025-09-13T13:56:38.894150Z",
     "iopub.status.idle": "2025-09-13T13:56:39.146253Z",
     "shell.execute_reply": "2025-09-13T13:56:39.145393Z"
    },
    "papermill": {
     "duration": 0.260831,
     "end_time": "2025-09-13T13:56:39.147870",
     "exception": false,
     "start_time": "2025-09-13T13:56:38.887039",
     "status": "completed"
    },
    "tags": []
   },
   "outputs": [
    {
     "data": {
      "text/html": [
       "<div>\n",
       "<style scoped>\n",
       "    .dataframe tbody tr th:only-of-type {\n",
       "        vertical-align: middle;\n",
       "    }\n",
       "\n",
       "    .dataframe tbody tr th {\n",
       "        vertical-align: top;\n",
       "    }\n",
       "\n",
       "    .dataframe thead th {\n",
       "        text-align: right;\n",
       "    }\n",
       "</style>\n",
       "<table border=\"1\" class=\"dataframe\">\n",
       "  <thead>\n",
       "    <tr style=\"text-align: right;\">\n",
       "      <th></th>\n",
       "      <th>StationId</th>\n",
       "      <th>Date</th>\n",
       "      <th>PM2.5</th>\n",
       "      <th>PM10</th>\n",
       "      <th>NO</th>\n",
       "      <th>NO2</th>\n",
       "      <th>NOx</th>\n",
       "      <th>NH3</th>\n",
       "      <th>CO</th>\n",
       "      <th>SO2</th>\n",
       "      <th>O3</th>\n",
       "      <th>Benzene</th>\n",
       "      <th>Toluene</th>\n",
       "      <th>Xylene</th>\n",
       "      <th>AQI</th>\n",
       "      <th>AQI_Bucket</th>\n",
       "    </tr>\n",
       "  </thead>\n",
       "  <tbody>\n",
       "    <tr>\n",
       "      <th>0</th>\n",
       "      <td>AP001</td>\n",
       "      <td>2017-11-24</td>\n",
       "      <td>71.36</td>\n",
       "      <td>115.75</td>\n",
       "      <td>1.75</td>\n",
       "      <td>20.65</td>\n",
       "      <td>12.40</td>\n",
       "      <td>12.19</td>\n",
       "      <td>0.10</td>\n",
       "      <td>10.76</td>\n",
       "      <td>109.26</td>\n",
       "      <td>0.17</td>\n",
       "      <td>5.92</td>\n",
       "      <td>0.10</td>\n",
       "      <td>NaN</td>\n",
       "      <td>NaN</td>\n",
       "    </tr>\n",
       "    <tr>\n",
       "      <th>1</th>\n",
       "      <td>AP001</td>\n",
       "      <td>2017-11-25</td>\n",
       "      <td>81.40</td>\n",
       "      <td>124.50</td>\n",
       "      <td>1.44</td>\n",
       "      <td>20.50</td>\n",
       "      <td>12.08</td>\n",
       "      <td>10.72</td>\n",
       "      <td>0.12</td>\n",
       "      <td>15.24</td>\n",
       "      <td>127.09</td>\n",
       "      <td>0.20</td>\n",
       "      <td>6.50</td>\n",
       "      <td>0.06</td>\n",
       "      <td>184.0</td>\n",
       "      <td>Moderate</td>\n",
       "    </tr>\n",
       "    <tr>\n",
       "      <th>2</th>\n",
       "      <td>AP001</td>\n",
       "      <td>2017-11-26</td>\n",
       "      <td>78.32</td>\n",
       "      <td>129.06</td>\n",
       "      <td>1.26</td>\n",
       "      <td>26.00</td>\n",
       "      <td>14.85</td>\n",
       "      <td>10.28</td>\n",
       "      <td>0.14</td>\n",
       "      <td>26.96</td>\n",
       "      <td>117.44</td>\n",
       "      <td>0.22</td>\n",
       "      <td>7.95</td>\n",
       "      <td>0.08</td>\n",
       "      <td>197.0</td>\n",
       "      <td>Moderate</td>\n",
       "    </tr>\n",
       "    <tr>\n",
       "      <th>3</th>\n",
       "      <td>AP001</td>\n",
       "      <td>2017-11-27</td>\n",
       "      <td>88.76</td>\n",
       "      <td>135.32</td>\n",
       "      <td>6.60</td>\n",
       "      <td>30.85</td>\n",
       "      <td>21.77</td>\n",
       "      <td>12.91</td>\n",
       "      <td>0.11</td>\n",
       "      <td>33.59</td>\n",
       "      <td>111.81</td>\n",
       "      <td>0.29</td>\n",
       "      <td>7.63</td>\n",
       "      <td>0.12</td>\n",
       "      <td>198.0</td>\n",
       "      <td>Moderate</td>\n",
       "    </tr>\n",
       "    <tr>\n",
       "      <th>4</th>\n",
       "      <td>AP001</td>\n",
       "      <td>2017-11-28</td>\n",
       "      <td>64.18</td>\n",
       "      <td>104.09</td>\n",
       "      <td>2.56</td>\n",
       "      <td>28.07</td>\n",
       "      <td>17.01</td>\n",
       "      <td>11.42</td>\n",
       "      <td>0.09</td>\n",
       "      <td>19.00</td>\n",
       "      <td>138.18</td>\n",
       "      <td>0.17</td>\n",
       "      <td>5.02</td>\n",
       "      <td>0.07</td>\n",
       "      <td>188.0</td>\n",
       "      <td>Moderate</td>\n",
       "    </tr>\n",
       "  </tbody>\n",
       "</table>\n",
       "</div>"
      ],
      "text/plain": [
       "  StationId        Date  PM2.5    PM10    NO    NO2    NOx    NH3    CO  \\\n",
       "0     AP001  2017-11-24  71.36  115.75  1.75  20.65  12.40  12.19  0.10   \n",
       "1     AP001  2017-11-25  81.40  124.50  1.44  20.50  12.08  10.72  0.12   \n",
       "2     AP001  2017-11-26  78.32  129.06  1.26  26.00  14.85  10.28  0.14   \n",
       "3     AP001  2017-11-27  88.76  135.32  6.60  30.85  21.77  12.91  0.11   \n",
       "4     AP001  2017-11-28  64.18  104.09  2.56  28.07  17.01  11.42  0.09   \n",
       "\n",
       "     SO2      O3  Benzene  Toluene  Xylene    AQI AQI_Bucket  \n",
       "0  10.76  109.26     0.17     5.92    0.10    NaN        NaN  \n",
       "1  15.24  127.09     0.20     6.50    0.06  184.0   Moderate  \n",
       "2  26.96  117.44     0.22     7.95    0.08  197.0   Moderate  \n",
       "3  33.59  111.81     0.29     7.63    0.12  198.0   Moderate  \n",
       "4  19.00  138.18     0.17     5.02    0.07  188.0   Moderate  "
      ]
     },
     "execution_count": 4,
     "metadata": {},
     "output_type": "execute_result"
    }
   ],
   "source": [
    "station_day=pd.read_csv('/kaggle/input/air-quality-data-in-india/station_day.csv')\n",
    "station_day.head()"
   ]
  },
  {
   "cell_type": "code",
   "execution_count": 5,
   "id": "147b65c6",
   "metadata": {
    "execution": {
     "iopub.execute_input": "2025-09-13T13:56:39.162463Z",
     "iopub.status.busy": "2025-09-13T13:56:39.161707Z",
     "iopub.status.idle": "2025-09-13T13:56:39.177402Z",
     "shell.execute_reply": "2025-09-13T13:56:39.176307Z"
    },
    "papermill": {
     "duration": 0.0243,
     "end_time": "2025-09-13T13:56:39.178766",
     "exception": false,
     "start_time": "2025-09-13T13:56:39.154466",
     "status": "completed"
    },
    "tags": []
   },
   "outputs": [
    {
     "data": {
      "text/html": [
       "<div>\n",
       "<style scoped>\n",
       "    .dataframe tbody tr th:only-of-type {\n",
       "        vertical-align: middle;\n",
       "    }\n",
       "\n",
       "    .dataframe tbody tr th {\n",
       "        vertical-align: top;\n",
       "    }\n",
       "\n",
       "    .dataframe thead th {\n",
       "        text-align: right;\n",
       "    }\n",
       "</style>\n",
       "<table border=\"1\" class=\"dataframe\">\n",
       "  <thead>\n",
       "    <tr style=\"text-align: right;\">\n",
       "      <th></th>\n",
       "      <th>StationId</th>\n",
       "      <th>StationName</th>\n",
       "      <th>City</th>\n",
       "      <th>State</th>\n",
       "      <th>Status</th>\n",
       "    </tr>\n",
       "  </thead>\n",
       "  <tbody>\n",
       "    <tr>\n",
       "      <th>0</th>\n",
       "      <td>AP001</td>\n",
       "      <td>Secretariat, Amaravati - APPCB</td>\n",
       "      <td>Amaravati</td>\n",
       "      <td>Andhra Pradesh</td>\n",
       "      <td>Active</td>\n",
       "    </tr>\n",
       "    <tr>\n",
       "      <th>1</th>\n",
       "      <td>AP002</td>\n",
       "      <td>Anand Kala Kshetram, Rajamahendravaram - APPCB</td>\n",
       "      <td>Rajamahendravaram</td>\n",
       "      <td>Andhra Pradesh</td>\n",
       "      <td>NaN</td>\n",
       "    </tr>\n",
       "    <tr>\n",
       "      <th>2</th>\n",
       "      <td>AP003</td>\n",
       "      <td>Tirumala, Tirupati - APPCB</td>\n",
       "      <td>Tirupati</td>\n",
       "      <td>Andhra Pradesh</td>\n",
       "      <td>NaN</td>\n",
       "    </tr>\n",
       "    <tr>\n",
       "      <th>3</th>\n",
       "      <td>AP004</td>\n",
       "      <td>PWD Grounds, Vijayawada - APPCB</td>\n",
       "      <td>Vijayawada</td>\n",
       "      <td>Andhra Pradesh</td>\n",
       "      <td>NaN</td>\n",
       "    </tr>\n",
       "    <tr>\n",
       "      <th>4</th>\n",
       "      <td>AP005</td>\n",
       "      <td>GVM Corporation, Visakhapatnam - APPCB</td>\n",
       "      <td>Visakhapatnam</td>\n",
       "      <td>Andhra Pradesh</td>\n",
       "      <td>Active</td>\n",
       "    </tr>\n",
       "  </tbody>\n",
       "</table>\n",
       "</div>"
      ],
      "text/plain": [
       "  StationId                                     StationName  \\\n",
       "0     AP001                  Secretariat, Amaravati - APPCB   \n",
       "1     AP002  Anand Kala Kshetram, Rajamahendravaram - APPCB   \n",
       "2     AP003                      Tirumala, Tirupati - APPCB   \n",
       "3     AP004                 PWD Grounds, Vijayawada - APPCB   \n",
       "4     AP005          GVM Corporation, Visakhapatnam - APPCB   \n",
       "\n",
       "                City           State  Status  \n",
       "0          Amaravati  Andhra Pradesh  Active  \n",
       "1  Rajamahendravaram  Andhra Pradesh     NaN  \n",
       "2           Tirupati  Andhra Pradesh     NaN  \n",
       "3         Vijayawada  Andhra Pradesh     NaN  \n",
       "4      Visakhapatnam  Andhra Pradesh  Active  "
      ]
     },
     "execution_count": 5,
     "metadata": {},
     "output_type": "execute_result"
    }
   ],
   "source": [
    "stations=pd.read_csv('/kaggle/input/air-quality-data-in-india/stations.csv')\n",
    "stations.head()"
   ]
  },
  {
   "cell_type": "code",
   "execution_count": 6,
   "id": "60918f7d",
   "metadata": {
    "execution": {
     "iopub.execute_input": "2025-09-13T13:56:39.193114Z",
     "iopub.status.busy": "2025-09-13T13:56:39.192797Z",
     "iopub.status.idle": "2025-09-13T13:56:39.206565Z",
     "shell.execute_reply": "2025-09-13T13:56:39.205724Z"
    },
    "papermill": {
     "duration": 0.022595,
     "end_time": "2025-09-13T13:56:39.208043",
     "exception": false,
     "start_time": "2025-09-13T13:56:39.185448",
     "status": "completed"
    },
    "tags": []
   },
   "outputs": [
    {
     "data": {
      "text/plain": [
       "City              0\n",
       "Date              0\n",
       "PM2.5          4598\n",
       "PM10          11140\n",
       "NO             3582\n",
       "NO2            3585\n",
       "NOx            4185\n",
       "NH3           10328\n",
       "CO             2059\n",
       "SO2            3854\n",
       "O3             4022\n",
       "Benzene        5623\n",
       "Toluene        8041\n",
       "Xylene        18109\n",
       "AQI            4681\n",
       "AQI_Bucket     4681\n",
       "dtype: int64"
      ]
     },
     "execution_count": 6,
     "metadata": {},
     "output_type": "execute_result"
    }
   ],
   "source": [
    "city_day.isna().sum()"
   ]
  },
  {
   "cell_type": "code",
   "execution_count": 7,
   "id": "7d84064c",
   "metadata": {
    "execution": {
     "iopub.execute_input": "2025-09-13T13:56:39.222991Z",
     "iopub.status.busy": "2025-09-13T13:56:39.222245Z",
     "iopub.status.idle": "2025-09-13T13:56:39.228785Z",
     "shell.execute_reply": "2025-09-13T13:56:39.228028Z"
    },
    "papermill": {
     "duration": 0.015306,
     "end_time": "2025-09-13T13:56:39.230154",
     "exception": false,
     "start_time": "2025-09-13T13:56:39.214848",
     "status": "completed"
    },
    "tags": []
   },
   "outputs": [
    {
     "data": {
      "text/plain": [
       "(StationId       0\n",
       " StationName     0\n",
       " City            0\n",
       " State           0\n",
       " Status         97\n",
       " dtype: int64,\n",
       " (230, 5))"
      ]
     },
     "execution_count": 7,
     "metadata": {},
     "output_type": "execute_result"
    }
   ],
   "source": [
    "stations.isna().sum() , stations.shape"
   ]
  },
  {
   "cell_type": "code",
   "execution_count": 8,
   "id": "fd4b2733",
   "metadata": {
    "execution": {
     "iopub.execute_input": "2025-09-13T13:56:39.245257Z",
     "iopub.status.busy": "2025-09-13T13:56:39.244963Z",
     "iopub.status.idle": "2025-09-13T13:56:39.250025Z",
     "shell.execute_reply": "2025-09-13T13:56:39.249383Z"
    },
    "papermill": {
     "duration": 0.014336,
     "end_time": "2025-09-13T13:56:39.251246",
     "exception": false,
     "start_time": "2025-09-13T13:56:39.236910",
     "status": "completed"
    },
    "tags": []
   },
   "outputs": [
    {
     "data": {
      "text/plain": [
       "((29531, 16), (108035, 16))"
      ]
     },
     "execution_count": 8,
     "metadata": {},
     "output_type": "execute_result"
    }
   ],
   "source": [
    "city_day.shape , station_day.shape"
   ]
  },
  {
   "cell_type": "code",
   "execution_count": 9,
   "id": "b78d8b1b",
   "metadata": {
    "execution": {
     "iopub.execute_input": "2025-09-13T13:56:39.266160Z",
     "iopub.status.busy": "2025-09-13T13:56:39.265854Z",
     "iopub.status.idle": "2025-09-13T13:56:39.278295Z",
     "shell.execute_reply": "2025-09-13T13:56:39.277515Z"
    },
    "papermill": {
     "duration": 0.0217,
     "end_time": "2025-09-13T13:56:39.279805",
     "exception": false,
     "start_time": "2025-09-13T13:56:39.258105",
     "status": "completed"
    },
    "tags": []
   },
   "outputs": [
    {
     "data": {
      "text/plain": [
       "(228, 5)"
      ]
     },
     "execution_count": 9,
     "metadata": {},
     "output_type": "execute_result"
    }
   ],
   "source": [
    "stations=stations[stations['Status'] !='Inactive']\n",
    "stations.shape"
   ]
  },
  {
   "cell_type": "code",
   "execution_count": 10,
   "id": "a3e38e3c",
   "metadata": {
    "execution": {
     "iopub.execute_input": "2025-09-13T13:56:39.294757Z",
     "iopub.status.busy": "2025-09-13T13:56:39.294457Z",
     "iopub.status.idle": "2025-09-13T13:56:39.303628Z",
     "shell.execute_reply": "2025-09-13T13:56:39.302893Z"
    },
    "papermill": {
     "duration": 0.018124,
     "end_time": "2025-09-13T13:56:39.304952",
     "exception": false,
     "start_time": "2025-09-13T13:56:39.286828",
     "status": "completed"
    },
    "tags": []
   },
   "outputs": [
    {
     "data": {
      "text/html": [
       "<div>\n",
       "<style scoped>\n",
       "    .dataframe tbody tr th:only-of-type {\n",
       "        vertical-align: middle;\n",
       "    }\n",
       "\n",
       "    .dataframe tbody tr th {\n",
       "        vertical-align: top;\n",
       "    }\n",
       "\n",
       "    .dataframe thead th {\n",
       "        text-align: right;\n",
       "    }\n",
       "</style>\n",
       "<table border=\"1\" class=\"dataframe\">\n",
       "  <thead>\n",
       "    <tr style=\"text-align: right;\">\n",
       "      <th></th>\n",
       "      <th>StationId</th>\n",
       "      <th>StationName</th>\n",
       "      <th>City</th>\n",
       "      <th>State</th>\n",
       "      <th>Status</th>\n",
       "    </tr>\n",
       "  </thead>\n",
       "  <tbody>\n",
       "    <tr>\n",
       "      <th>0</th>\n",
       "      <td>AP001</td>\n",
       "      <td>Secretariat, Amaravati - APPCB</td>\n",
       "      <td>Amaravati</td>\n",
       "      <td>Andhra Pradesh</td>\n",
       "      <td>Active</td>\n",
       "    </tr>\n",
       "    <tr>\n",
       "      <th>1</th>\n",
       "      <td>AP002</td>\n",
       "      <td>Anand Kala Kshetram, Rajamahendravaram - APPCB</td>\n",
       "      <td>Rajamahendravaram</td>\n",
       "      <td>Andhra Pradesh</td>\n",
       "      <td>NaN</td>\n",
       "    </tr>\n",
       "    <tr>\n",
       "      <th>2</th>\n",
       "      <td>AP003</td>\n",
       "      <td>Tirumala, Tirupati - APPCB</td>\n",
       "      <td>Tirupati</td>\n",
       "      <td>Andhra Pradesh</td>\n",
       "      <td>NaN</td>\n",
       "    </tr>\n",
       "    <tr>\n",
       "      <th>3</th>\n",
       "      <td>AP004</td>\n",
       "      <td>PWD Grounds, Vijayawada - APPCB</td>\n",
       "      <td>Vijayawada</td>\n",
       "      <td>Andhra Pradesh</td>\n",
       "      <td>NaN</td>\n",
       "    </tr>\n",
       "    <tr>\n",
       "      <th>4</th>\n",
       "      <td>AP005</td>\n",
       "      <td>GVM Corporation, Visakhapatnam - APPCB</td>\n",
       "      <td>Visakhapatnam</td>\n",
       "      <td>Andhra Pradesh</td>\n",
       "      <td>Active</td>\n",
       "    </tr>\n",
       "  </tbody>\n",
       "</table>\n",
       "</div>"
      ],
      "text/plain": [
       "  StationId                                     StationName  \\\n",
       "0     AP001                  Secretariat, Amaravati - APPCB   \n",
       "1     AP002  Anand Kala Kshetram, Rajamahendravaram - APPCB   \n",
       "2     AP003                      Tirumala, Tirupati - APPCB   \n",
       "3     AP004                 PWD Grounds, Vijayawada - APPCB   \n",
       "4     AP005          GVM Corporation, Visakhapatnam - APPCB   \n",
       "\n",
       "                City           State  Status  \n",
       "0          Amaravati  Andhra Pradesh  Active  \n",
       "1  Rajamahendravaram  Andhra Pradesh     NaN  \n",
       "2           Tirupati  Andhra Pradesh     NaN  \n",
       "3         Vijayawada  Andhra Pradesh     NaN  \n",
       "4      Visakhapatnam  Andhra Pradesh  Active  "
      ]
     },
     "execution_count": 10,
     "metadata": {},
     "output_type": "execute_result"
    }
   ],
   "source": [
    "stations.head()"
   ]
  },
  {
   "cell_type": "code",
   "execution_count": 11,
   "id": "320b9443",
   "metadata": {
    "execution": {
     "iopub.execute_input": "2025-09-13T13:56:39.320909Z",
     "iopub.status.busy": "2025-09-13T13:56:39.319868Z",
     "iopub.status.idle": "2025-09-13T13:56:39.325233Z",
     "shell.execute_reply": "2025-09-13T13:56:39.324464Z"
    },
    "papermill": {
     "duration": 0.014463,
     "end_time": "2025-09-13T13:56:39.326463",
     "exception": false,
     "start_time": "2025-09-13T13:56:39.312000",
     "status": "completed"
    },
    "tags": []
   },
   "outputs": [],
   "source": [
    "stations.fillna('Active',inplace=True)"
   ]
  },
  {
   "cell_type": "code",
   "execution_count": 12,
   "id": "86b63598",
   "metadata": {
    "execution": {
     "iopub.execute_input": "2025-09-13T13:56:39.342006Z",
     "iopub.status.busy": "2025-09-13T13:56:39.341375Z",
     "iopub.status.idle": "2025-09-13T13:56:39.376657Z",
     "shell.execute_reply": "2025-09-13T13:56:39.375816Z"
    },
    "papermill": {
     "duration": 0.044359,
     "end_time": "2025-09-13T13:56:39.377957",
     "exception": false,
     "start_time": "2025-09-13T13:56:39.333598",
     "status": "completed"
    },
    "tags": []
   },
   "outputs": [
    {
     "data": {
      "text/plain": [
       "StationId         0\n",
       "Date              0\n",
       "PM2.5         21625\n",
       "PM10          42706\n",
       "NO            17106\n",
       "NO2           16547\n",
       "NOx           15500\n",
       "NH3           48105\n",
       "CO            12998\n",
       "SO2           25204\n",
       "O3            25568\n",
       "Benzene       31455\n",
       "Toluene       38702\n",
       "Xylene        85137\n",
       "AQI           21010\n",
       "AQI_Bucket    21010\n",
       "dtype: int64"
      ]
     },
     "execution_count": 12,
     "metadata": {},
     "output_type": "execute_result"
    }
   ],
   "source": [
    "station_day.isna().sum()"
   ]
  },
  {
   "cell_type": "code",
   "execution_count": 13,
   "id": "76bc8f3b",
   "metadata": {
    "execution": {
     "iopub.execute_input": "2025-09-13T13:56:39.393510Z",
     "iopub.status.busy": "2025-09-13T13:56:39.392994Z",
     "iopub.status.idle": "2025-09-13T13:56:39.448280Z",
     "shell.execute_reply": "2025-09-13T13:56:39.447444Z"
    },
    "papermill": {
     "duration": 0.064563,
     "end_time": "2025-09-13T13:56:39.449644",
     "exception": false,
     "start_time": "2025-09-13T13:56:39.385081",
     "status": "completed"
    },
    "tags": []
   },
   "outputs": [
    {
     "data": {
      "text/html": [
       "<div>\n",
       "<style scoped>\n",
       "    .dataframe tbody tr th:only-of-type {\n",
       "        vertical-align: middle;\n",
       "    }\n",
       "\n",
       "    .dataframe tbody tr th {\n",
       "        vertical-align: top;\n",
       "    }\n",
       "\n",
       "    .dataframe thead th {\n",
       "        text-align: right;\n",
       "    }\n",
       "</style>\n",
       "<table border=\"1\" class=\"dataframe\">\n",
       "  <thead>\n",
       "    <tr style=\"text-align: right;\">\n",
       "      <th></th>\n",
       "      <th>StationId</th>\n",
       "      <th>Date</th>\n",
       "      <th>PM2.5</th>\n",
       "      <th>PM10</th>\n",
       "      <th>NO</th>\n",
       "      <th>NO2</th>\n",
       "      <th>NOx</th>\n",
       "      <th>NH3</th>\n",
       "      <th>CO</th>\n",
       "      <th>SO2</th>\n",
       "      <th>O3</th>\n",
       "      <th>Benzene</th>\n",
       "      <th>Toluene</th>\n",
       "      <th>Xylene</th>\n",
       "      <th>AQI</th>\n",
       "      <th>AQI_Bucket</th>\n",
       "      <th>StationName</th>\n",
       "      <th>City</th>\n",
       "      <th>State</th>\n",
       "      <th>Status</th>\n",
       "    </tr>\n",
       "  </thead>\n",
       "  <tbody>\n",
       "    <tr>\n",
       "      <th>0</th>\n",
       "      <td>AP001</td>\n",
       "      <td>2017-11-24</td>\n",
       "      <td>71.36</td>\n",
       "      <td>115.75</td>\n",
       "      <td>1.75</td>\n",
       "      <td>20.65</td>\n",
       "      <td>12.40</td>\n",
       "      <td>12.19</td>\n",
       "      <td>0.10</td>\n",
       "      <td>10.76</td>\n",
       "      <td>109.26</td>\n",
       "      <td>0.17</td>\n",
       "      <td>5.92</td>\n",
       "      <td>0.10</td>\n",
       "      <td>NaN</td>\n",
       "      <td>NaN</td>\n",
       "      <td>Secretariat, Amaravati - APPCB</td>\n",
       "      <td>Amaravati</td>\n",
       "      <td>Andhra Pradesh</td>\n",
       "      <td>Active</td>\n",
       "    </tr>\n",
       "    <tr>\n",
       "      <th>1</th>\n",
       "      <td>AP001</td>\n",
       "      <td>2017-11-25</td>\n",
       "      <td>81.40</td>\n",
       "      <td>124.50</td>\n",
       "      <td>1.44</td>\n",
       "      <td>20.50</td>\n",
       "      <td>12.08</td>\n",
       "      <td>10.72</td>\n",
       "      <td>0.12</td>\n",
       "      <td>15.24</td>\n",
       "      <td>127.09</td>\n",
       "      <td>0.20</td>\n",
       "      <td>6.50</td>\n",
       "      <td>0.06</td>\n",
       "      <td>184.0</td>\n",
       "      <td>Moderate</td>\n",
       "      <td>Secretariat, Amaravati - APPCB</td>\n",
       "      <td>Amaravati</td>\n",
       "      <td>Andhra Pradesh</td>\n",
       "      <td>Active</td>\n",
       "    </tr>\n",
       "    <tr>\n",
       "      <th>2</th>\n",
       "      <td>AP001</td>\n",
       "      <td>2017-11-26</td>\n",
       "      <td>78.32</td>\n",
       "      <td>129.06</td>\n",
       "      <td>1.26</td>\n",
       "      <td>26.00</td>\n",
       "      <td>14.85</td>\n",
       "      <td>10.28</td>\n",
       "      <td>0.14</td>\n",
       "      <td>26.96</td>\n",
       "      <td>117.44</td>\n",
       "      <td>0.22</td>\n",
       "      <td>7.95</td>\n",
       "      <td>0.08</td>\n",
       "      <td>197.0</td>\n",
       "      <td>Moderate</td>\n",
       "      <td>Secretariat, Amaravati - APPCB</td>\n",
       "      <td>Amaravati</td>\n",
       "      <td>Andhra Pradesh</td>\n",
       "      <td>Active</td>\n",
       "    </tr>\n",
       "    <tr>\n",
       "      <th>3</th>\n",
       "      <td>AP001</td>\n",
       "      <td>2017-11-27</td>\n",
       "      <td>88.76</td>\n",
       "      <td>135.32</td>\n",
       "      <td>6.60</td>\n",
       "      <td>30.85</td>\n",
       "      <td>21.77</td>\n",
       "      <td>12.91</td>\n",
       "      <td>0.11</td>\n",
       "      <td>33.59</td>\n",
       "      <td>111.81</td>\n",
       "      <td>0.29</td>\n",
       "      <td>7.63</td>\n",
       "      <td>0.12</td>\n",
       "      <td>198.0</td>\n",
       "      <td>Moderate</td>\n",
       "      <td>Secretariat, Amaravati - APPCB</td>\n",
       "      <td>Amaravati</td>\n",
       "      <td>Andhra Pradesh</td>\n",
       "      <td>Active</td>\n",
       "    </tr>\n",
       "    <tr>\n",
       "      <th>4</th>\n",
       "      <td>AP001</td>\n",
       "      <td>2017-11-28</td>\n",
       "      <td>64.18</td>\n",
       "      <td>104.09</td>\n",
       "      <td>2.56</td>\n",
       "      <td>28.07</td>\n",
       "      <td>17.01</td>\n",
       "      <td>11.42</td>\n",
       "      <td>0.09</td>\n",
       "      <td>19.00</td>\n",
       "      <td>138.18</td>\n",
       "      <td>0.17</td>\n",
       "      <td>5.02</td>\n",
       "      <td>0.07</td>\n",
       "      <td>188.0</td>\n",
       "      <td>Moderate</td>\n",
       "      <td>Secretariat, Amaravati - APPCB</td>\n",
       "      <td>Amaravati</td>\n",
       "      <td>Andhra Pradesh</td>\n",
       "      <td>Active</td>\n",
       "    </tr>\n",
       "  </tbody>\n",
       "</table>\n",
       "</div>"
      ],
      "text/plain": [
       "  StationId        Date  PM2.5    PM10    NO    NO2    NOx    NH3    CO  \\\n",
       "0     AP001  2017-11-24  71.36  115.75  1.75  20.65  12.40  12.19  0.10   \n",
       "1     AP001  2017-11-25  81.40  124.50  1.44  20.50  12.08  10.72  0.12   \n",
       "2     AP001  2017-11-26  78.32  129.06  1.26  26.00  14.85  10.28  0.14   \n",
       "3     AP001  2017-11-27  88.76  135.32  6.60  30.85  21.77  12.91  0.11   \n",
       "4     AP001  2017-11-28  64.18  104.09  2.56  28.07  17.01  11.42  0.09   \n",
       "\n",
       "     SO2      O3  Benzene  Toluene  Xylene    AQI AQI_Bucket  \\\n",
       "0  10.76  109.26     0.17     5.92    0.10    NaN        NaN   \n",
       "1  15.24  127.09     0.20     6.50    0.06  184.0   Moderate   \n",
       "2  26.96  117.44     0.22     7.95    0.08  197.0   Moderate   \n",
       "3  33.59  111.81     0.29     7.63    0.12  198.0   Moderate   \n",
       "4  19.00  138.18     0.17     5.02    0.07  188.0   Moderate   \n",
       "\n",
       "                      StationName       City           State  Status  \n",
       "0  Secretariat, Amaravati - APPCB  Amaravati  Andhra Pradesh  Active  \n",
       "1  Secretariat, Amaravati - APPCB  Amaravati  Andhra Pradesh  Active  \n",
       "2  Secretariat, Amaravati - APPCB  Amaravati  Andhra Pradesh  Active  \n",
       "3  Secretariat, Amaravati - APPCB  Amaravati  Andhra Pradesh  Active  \n",
       "4  Secretariat, Amaravati - APPCB  Amaravati  Andhra Pradesh  Active  "
      ]
     },
     "execution_count": 13,
     "metadata": {},
     "output_type": "execute_result"
    }
   ],
   "source": [
    "station_merged=station_day.merge(stations,on='StationId',how='left')\n",
    "station_merged.head()"
   ]
  },
  {
   "cell_type": "code",
   "execution_count": 14,
   "id": "7b94020b",
   "metadata": {
    "execution": {
     "iopub.execute_input": "2025-09-13T13:56:39.465809Z",
     "iopub.status.busy": "2025-09-13T13:56:39.465056Z",
     "iopub.status.idle": "2025-09-13T13:56:39.522262Z",
     "shell.execute_reply": "2025-09-13T13:56:39.521404Z"
    },
    "papermill": {
     "duration": 0.066746,
     "end_time": "2025-09-13T13:56:39.523780",
     "exception": false,
     "start_time": "2025-09-13T13:56:39.457034",
     "status": "completed"
    },
    "tags": []
   },
   "outputs": [
    {
     "data": {
      "text/plain": [
       "StationId          0\n",
       "Date               0\n",
       "PM2.5          21625\n",
       "PM10           42706\n",
       "NO             17106\n",
       "NO2            16547\n",
       "NOx            15500\n",
       "NH3            48105\n",
       "CO             12998\n",
       "SO2            25204\n",
       "O3             25568\n",
       "Benzene        31455\n",
       "Toluene        38702\n",
       "Xylene         85137\n",
       "AQI            21010\n",
       "AQI_Bucket     21010\n",
       "StationName     1609\n",
       "City            1609\n",
       "State           1609\n",
       "Status          1609\n",
       "dtype: int64"
      ]
     },
     "execution_count": 14,
     "metadata": {},
     "output_type": "execute_result"
    }
   ],
   "source": [
    "station_merged.isna().sum()"
   ]
  },
  {
   "cell_type": "markdown",
   "id": "e732507d",
   "metadata": {
    "papermill": {
     "duration": 0.00707,
     "end_time": "2025-09-13T13:56:39.538412",
     "exception": false,
     "start_time": "2025-09-13T13:56:39.531342",
     "status": "completed"
    },
    "tags": []
   },
   "source": [
    "## 1.1 handling missing values"
   ]
  },
  {
   "cell_type": "code",
   "execution_count": 15,
   "id": "0a671e4b",
   "metadata": {
    "execution": {
     "iopub.execute_input": "2025-09-13T13:56:39.554583Z",
     "iopub.status.busy": "2025-09-13T13:56:39.553936Z",
     "iopub.status.idle": "2025-09-13T13:56:41.117968Z",
     "shell.execute_reply": "2025-09-13T13:56:41.117032Z"
    },
    "papermill": {
     "duration": 1.574053,
     "end_time": "2025-09-13T13:56:41.119827",
     "exception": false,
     "start_time": "2025-09-13T13:56:39.545774",
     "status": "completed"
    },
    "tags": []
   },
   "outputs": [],
   "source": [
    "import matplotlib.pyplot as plt\n",
    "from sklearn.preprocessing import LabelEncoder , StandardScaler\n",
    "from sklearn.model_selection import train_test_split , GridSearchCV\n",
    "from sklearn.neighbors import KNeighborsClassifier\n",
    "from sklearn.metrics import classification_report , confusion_matrix , ConfusionMatrixDisplay\n"
   ]
  },
  {
   "cell_type": "code",
   "execution_count": 16,
   "id": "09494b69",
   "metadata": {
    "execution": {
     "iopub.execute_input": "2025-09-13T13:56:41.136107Z",
     "iopub.status.busy": "2025-09-13T13:56:41.135696Z",
     "iopub.status.idle": "2025-09-13T13:56:41.208776Z",
     "shell.execute_reply": "2025-09-13T13:56:41.207911Z"
    },
    "papermill": {
     "duration": 0.082795,
     "end_time": "2025-09-13T13:56:41.210166",
     "exception": false,
     "start_time": "2025-09-13T13:56:41.127371",
     "status": "completed"
    },
    "tags": []
   },
   "outputs": [
    {
     "data": {
      "text/plain": [
       "StationId          0\n",
       "Date               0\n",
       "PM2.5           3488\n",
       "PM10           23961\n",
       "NO              2229\n",
       "NO2             1566\n",
       "NOx             4555\n",
       "NH3            29832\n",
       "CO              2896\n",
       "SO2             9533\n",
       "O3              9598\n",
       "Benzene        19787\n",
       "Toluene        26324\n",
       "Xylene         67584\n",
       "AQI                0\n",
       "AQI_Bucket         0\n",
       "StationName     1265\n",
       "City            1265\n",
       "State           1265\n",
       "Status          1265\n",
       "dtype: int64"
      ]
     },
     "execution_count": 16,
     "metadata": {},
     "output_type": "execute_result"
    }
   ],
   "source": [
    "station_merged.dropna(subset='AQI_Bucket',inplace=True)\n",
    "station_merged.isna().sum()"
   ]
  },
  {
   "cell_type": "code",
   "execution_count": 17,
   "id": "2d30b02a",
   "metadata": {
    "execution": {
     "iopub.execute_input": "2025-09-13T13:56:41.226732Z",
     "iopub.status.busy": "2025-09-13T13:56:41.226077Z",
     "iopub.status.idle": "2025-09-13T13:56:41.231159Z",
     "shell.execute_reply": "2025-09-13T13:56:41.230500Z"
    },
    "papermill": {
     "duration": 0.014525,
     "end_time": "2025-09-13T13:56:41.232327",
     "exception": false,
     "start_time": "2025-09-13T13:56:41.217802",
     "status": "completed"
    },
    "tags": []
   },
   "outputs": [
    {
     "data": {
      "text/plain": [
       "(87025, 20)"
      ]
     },
     "execution_count": 17,
     "metadata": {},
     "output_type": "execute_result"
    }
   ],
   "source": [
    "station_merged.shape"
   ]
  },
  {
   "cell_type": "code",
   "execution_count": 18,
   "id": "8b1cfc5e",
   "metadata": {
    "execution": {
     "iopub.execute_input": "2025-09-13T13:56:41.249181Z",
     "iopub.status.busy": "2025-09-13T13:56:41.248618Z",
     "iopub.status.idle": "2025-09-13T13:56:41.297162Z",
     "shell.execute_reply": "2025-09-13T13:56:41.296229Z"
    },
    "papermill": {
     "duration": 0.058808,
     "end_time": "2025-09-13T13:56:41.298746",
     "exception": false,
     "start_time": "2025-09-13T13:56:41.239938",
     "status": "completed"
    },
    "tags": []
   },
   "outputs": [],
   "source": [
    "station_merged.dropna(subset=['City','State','Status','StationName'],inplace=True)\n",
    "\n",
    "station_merged.drop(['Xylene','Toluene','Benzene','NO','NOx'],axis=1,inplace=True)"
   ]
  },
  {
   "cell_type": "code",
   "execution_count": 19,
   "id": "dd911386",
   "metadata": {
    "execution": {
     "iopub.execute_input": "2025-09-13T13:56:41.375781Z",
     "iopub.status.busy": "2025-09-13T13:56:41.374911Z",
     "iopub.status.idle": "2025-09-13T13:56:41.391031Z",
     "shell.execute_reply": "2025-09-13T13:56:41.390203Z"
    },
    "papermill": {
     "duration": 0.085863,
     "end_time": "2025-09-13T13:56:41.392315",
     "exception": false,
     "start_time": "2025-09-13T13:56:41.306452",
     "status": "completed"
    },
    "tags": []
   },
   "outputs": [
    {
     "data": {
      "text/html": [
       "<div>\n",
       "<style scoped>\n",
       "    .dataframe tbody tr th:only-of-type {\n",
       "        vertical-align: middle;\n",
       "    }\n",
       "\n",
       "    .dataframe tbody tr th {\n",
       "        vertical-align: top;\n",
       "    }\n",
       "\n",
       "    .dataframe thead th {\n",
       "        text-align: right;\n",
       "    }\n",
       "</style>\n",
       "<table border=\"1\" class=\"dataframe\">\n",
       "  <thead>\n",
       "    <tr style=\"text-align: right;\">\n",
       "      <th></th>\n",
       "      <th>StationId</th>\n",
       "      <th>Date</th>\n",
       "      <th>PM2.5</th>\n",
       "      <th>PM10</th>\n",
       "      <th>NO2</th>\n",
       "      <th>NH3</th>\n",
       "      <th>CO</th>\n",
       "      <th>SO2</th>\n",
       "      <th>O3</th>\n",
       "      <th>AQI</th>\n",
       "      <th>AQI_Bucket</th>\n",
       "      <th>StationName</th>\n",
       "      <th>City</th>\n",
       "      <th>State</th>\n",
       "      <th>Status</th>\n",
       "    </tr>\n",
       "  </thead>\n",
       "  <tbody>\n",
       "    <tr>\n",
       "      <th>1</th>\n",
       "      <td>AP001</td>\n",
       "      <td>2017-11-25</td>\n",
       "      <td>81.40</td>\n",
       "      <td>124.50</td>\n",
       "      <td>20.50</td>\n",
       "      <td>10.72</td>\n",
       "      <td>0.12</td>\n",
       "      <td>15.24</td>\n",
       "      <td>127.09</td>\n",
       "      <td>184.0</td>\n",
       "      <td>Moderate</td>\n",
       "      <td>Secretariat, Amaravati - APPCB</td>\n",
       "      <td>Amaravati</td>\n",
       "      <td>Andhra Pradesh</td>\n",
       "      <td>Active</td>\n",
       "    </tr>\n",
       "    <tr>\n",
       "      <th>2</th>\n",
       "      <td>AP001</td>\n",
       "      <td>2017-11-26</td>\n",
       "      <td>78.32</td>\n",
       "      <td>129.06</td>\n",
       "      <td>26.00</td>\n",
       "      <td>10.28</td>\n",
       "      <td>0.14</td>\n",
       "      <td>26.96</td>\n",
       "      <td>117.44</td>\n",
       "      <td>197.0</td>\n",
       "      <td>Moderate</td>\n",
       "      <td>Secretariat, Amaravati - APPCB</td>\n",
       "      <td>Amaravati</td>\n",
       "      <td>Andhra Pradesh</td>\n",
       "      <td>Active</td>\n",
       "    </tr>\n",
       "    <tr>\n",
       "      <th>3</th>\n",
       "      <td>AP001</td>\n",
       "      <td>2017-11-27</td>\n",
       "      <td>88.76</td>\n",
       "      <td>135.32</td>\n",
       "      <td>30.85</td>\n",
       "      <td>12.91</td>\n",
       "      <td>0.11</td>\n",
       "      <td>33.59</td>\n",
       "      <td>111.81</td>\n",
       "      <td>198.0</td>\n",
       "      <td>Moderate</td>\n",
       "      <td>Secretariat, Amaravati - APPCB</td>\n",
       "      <td>Amaravati</td>\n",
       "      <td>Andhra Pradesh</td>\n",
       "      <td>Active</td>\n",
       "    </tr>\n",
       "    <tr>\n",
       "      <th>4</th>\n",
       "      <td>AP001</td>\n",
       "      <td>2017-11-28</td>\n",
       "      <td>64.18</td>\n",
       "      <td>104.09</td>\n",
       "      <td>28.07</td>\n",
       "      <td>11.42</td>\n",
       "      <td>0.09</td>\n",
       "      <td>19.00</td>\n",
       "      <td>138.18</td>\n",
       "      <td>188.0</td>\n",
       "      <td>Moderate</td>\n",
       "      <td>Secretariat, Amaravati - APPCB</td>\n",
       "      <td>Amaravati</td>\n",
       "      <td>Andhra Pradesh</td>\n",
       "      <td>Active</td>\n",
       "    </tr>\n",
       "    <tr>\n",
       "      <th>5</th>\n",
       "      <td>AP001</td>\n",
       "      <td>2017-11-29</td>\n",
       "      <td>72.47</td>\n",
       "      <td>114.84</td>\n",
       "      <td>23.20</td>\n",
       "      <td>12.25</td>\n",
       "      <td>0.16</td>\n",
       "      <td>10.55</td>\n",
       "      <td>109.74</td>\n",
       "      <td>173.0</td>\n",
       "      <td>Moderate</td>\n",
       "      <td>Secretariat, Amaravati - APPCB</td>\n",
       "      <td>Amaravati</td>\n",
       "      <td>Andhra Pradesh</td>\n",
       "      <td>Active</td>\n",
       "    </tr>\n",
       "  </tbody>\n",
       "</table>\n",
       "</div>"
      ],
      "text/plain": [
       "  StationId        Date  PM2.5    PM10    NO2    NH3    CO    SO2      O3  \\\n",
       "1     AP001  2017-11-25  81.40  124.50  20.50  10.72  0.12  15.24  127.09   \n",
       "2     AP001  2017-11-26  78.32  129.06  26.00  10.28  0.14  26.96  117.44   \n",
       "3     AP001  2017-11-27  88.76  135.32  30.85  12.91  0.11  33.59  111.81   \n",
       "4     AP001  2017-11-28  64.18  104.09  28.07  11.42  0.09  19.00  138.18   \n",
       "5     AP001  2017-11-29  72.47  114.84  23.20  12.25  0.16  10.55  109.74   \n",
       "\n",
       "     AQI AQI_Bucket                     StationName       City  \\\n",
       "1  184.0   Moderate  Secretariat, Amaravati - APPCB  Amaravati   \n",
       "2  197.0   Moderate  Secretariat, Amaravati - APPCB  Amaravati   \n",
       "3  198.0   Moderate  Secretariat, Amaravati - APPCB  Amaravati   \n",
       "4  188.0   Moderate  Secretariat, Amaravati - APPCB  Amaravati   \n",
       "5  173.0   Moderate  Secretariat, Amaravati - APPCB  Amaravati   \n",
       "\n",
       "            State  Status  \n",
       "1  Andhra Pradesh  Active  \n",
       "2  Andhra Pradesh  Active  \n",
       "3  Andhra Pradesh  Active  \n",
       "4  Andhra Pradesh  Active  \n",
       "5  Andhra Pradesh  Active  "
      ]
     },
     "execution_count": 19,
     "metadata": {},
     "output_type": "execute_result"
    }
   ],
   "source": [
    "station_merged.head()"
   ]
  },
  {
   "cell_type": "code",
   "execution_count": 20,
   "id": "588215dd",
   "metadata": {
    "execution": {
     "iopub.execute_input": "2025-09-13T13:56:41.409918Z",
     "iopub.status.busy": "2025-09-13T13:56:41.409138Z",
     "iopub.status.idle": "2025-09-13T13:56:41.419629Z",
     "shell.execute_reply": "2025-09-13T13:56:41.418884Z"
    },
    "papermill": {
     "duration": 0.02071,
     "end_time": "2025-09-13T13:56:41.421066",
     "exception": false,
     "start_time": "2025-09-13T13:56:41.400356",
     "status": "completed"
    },
    "tags": []
   },
   "outputs": [],
   "source": [
    "station_merged.drop('StationId',axis=1,inplace=True)"
   ]
  },
  {
   "cell_type": "code",
   "execution_count": 21,
   "id": "ba06be94",
   "metadata": {
    "execution": {
     "iopub.execute_input": "2025-09-13T13:56:41.438529Z",
     "iopub.status.busy": "2025-09-13T13:56:41.437771Z",
     "iopub.status.idle": "2025-09-13T13:56:41.479972Z",
     "shell.execute_reply": "2025-09-13T13:56:41.479092Z"
    },
    "papermill": {
     "duration": 0.0523,
     "end_time": "2025-09-13T13:56:41.481383",
     "exception": false,
     "start_time": "2025-09-13T13:56:41.429083",
     "status": "completed"
    },
    "tags": []
   },
   "outputs": [
    {
     "data": {
      "text/plain": [
       "Date               0\n",
       "PM2.5           3428\n",
       "PM10           23341\n",
       "NO2             1519\n",
       "NH3            28567\n",
       "CO              2889\n",
       "SO2             8831\n",
       "O3              9589\n",
       "AQI                0\n",
       "AQI_Bucket         0\n",
       "StationName        0\n",
       "City               0\n",
       "State              0\n",
       "Status             0\n",
       "dtype: int64"
      ]
     },
     "execution_count": 21,
     "metadata": {},
     "output_type": "execute_result"
    }
   ],
   "source": [
    "station_merged.isna().sum()"
   ]
  },
  {
   "cell_type": "code",
   "execution_count": 22,
   "id": "8c13216d",
   "metadata": {
    "execution": {
     "iopub.execute_input": "2025-09-13T13:56:41.498945Z",
     "iopub.status.busy": "2025-09-13T13:56:41.498181Z",
     "iopub.status.idle": "2025-09-13T13:56:41.563798Z",
     "shell.execute_reply": "2025-09-13T13:56:41.562947Z"
    },
    "papermill": {
     "duration": 0.075932,
     "end_time": "2025-09-13T13:56:41.565371",
     "exception": false,
     "start_time": "2025-09-13T13:56:41.489439",
     "status": "completed"
    },
    "tags": []
   },
   "outputs": [
    {
     "data": {
      "text/plain": [
       "0.554299762482664"
      ]
     },
     "execution_count": 22,
     "metadata": {},
     "output_type": "execute_result"
    }
   ],
   "source": [
    "encoders={}\n",
    "le=LabelEncoder()\n",
    "station_merged['AQI_Bucket']=le.fit_transform(station_merged['AQI_Bucket'])\n",
    "encoders['AQI_Bucket']=le\n",
    "\n",
    "station_merged['AQI'].corr(station_merged['AQI_Bucket'])\n"
   ]
  },
  {
   "cell_type": "code",
   "execution_count": 23,
   "id": "b043f57c",
   "metadata": {
    "execution": {
     "iopub.execute_input": "2025-09-13T13:56:41.583039Z",
     "iopub.status.busy": "2025-09-13T13:56:41.582235Z",
     "iopub.status.idle": "2025-09-13T13:56:41.590006Z",
     "shell.execute_reply": "2025-09-13T13:56:41.589125Z"
    },
    "papermill": {
     "duration": 0.017884,
     "end_time": "2025-09-13T13:56:41.591324",
     "exception": false,
     "start_time": "2025-09-13T13:56:41.573440",
     "status": "completed"
    },
    "tags": []
   },
   "outputs": [
    {
     "data": {
      "text/plain": [
       "1         184.0\n",
       "2         197.0\n",
       "3         198.0\n",
       "4         188.0\n",
       "5         173.0\n",
       "          ...  \n",
       "108030     50.0\n",
       "108031     65.0\n",
       "108032     63.0\n",
       "108033     57.0\n",
       "108034     59.0\n",
       "Name: AQI, Length: 85760, dtype: float64"
      ]
     },
     "execution_count": 23,
     "metadata": {},
     "output_type": "execute_result"
    }
   ],
   "source": [
    "station_merged['AQI']"
   ]
  },
  {
   "cell_type": "markdown",
   "id": "70837b4a",
   "metadata": {
    "papermill": {
     "duration": 0.007975,
     "end_time": "2025-09-13T13:56:41.607642",
     "exception": false,
     "start_time": "2025-09-13T13:56:41.599667",
     "status": "completed"
    },
    "tags": []
   },
   "source": [
    "## 1.2 fitting the model"
   ]
  },
  {
   "cell_type": "code",
   "execution_count": 24,
   "id": "5728a824",
   "metadata": {
    "execution": {
     "iopub.execute_input": "2025-09-13T13:56:41.625002Z",
     "iopub.status.busy": "2025-09-13T13:56:41.624605Z",
     "iopub.status.idle": "2025-09-13T13:56:41.672895Z",
     "shell.execute_reply": "2025-09-13T13:56:41.672043Z"
    },
    "papermill": {
     "duration": 0.058844,
     "end_time": "2025-09-13T13:56:41.674449",
     "exception": false,
     "start_time": "2025-09-13T13:56:41.615605",
     "status": "completed"
    },
    "tags": []
   },
   "outputs": [
    {
     "data": {
      "text/html": [
       "<style>#sk-container-id-1 {color: black;background-color: white;}#sk-container-id-1 pre{padding: 0;}#sk-container-id-1 div.sk-toggleable {background-color: white;}#sk-container-id-1 label.sk-toggleable__label {cursor: pointer;display: block;width: 100%;margin-bottom: 0;padding: 0.3em;box-sizing: border-box;text-align: center;}#sk-container-id-1 label.sk-toggleable__label-arrow:before {content: \"▸\";float: left;margin-right: 0.25em;color: #696969;}#sk-container-id-1 label.sk-toggleable__label-arrow:hover:before {color: black;}#sk-container-id-1 div.sk-estimator:hover label.sk-toggleable__label-arrow:before {color: black;}#sk-container-id-1 div.sk-toggleable__content {max-height: 0;max-width: 0;overflow: hidden;text-align: left;background-color: #f0f8ff;}#sk-container-id-1 div.sk-toggleable__content pre {margin: 0.2em;color: black;border-radius: 0.25em;background-color: #f0f8ff;}#sk-container-id-1 input.sk-toggleable__control:checked~div.sk-toggleable__content {max-height: 200px;max-width: 100%;overflow: auto;}#sk-container-id-1 input.sk-toggleable__control:checked~label.sk-toggleable__label-arrow:before {content: \"▾\";}#sk-container-id-1 div.sk-estimator input.sk-toggleable__control:checked~label.sk-toggleable__label {background-color: #d4ebff;}#sk-container-id-1 div.sk-label input.sk-toggleable__control:checked~label.sk-toggleable__label {background-color: #d4ebff;}#sk-container-id-1 input.sk-hidden--visually {border: 0;clip: rect(1px 1px 1px 1px);clip: rect(1px, 1px, 1px, 1px);height: 1px;margin: -1px;overflow: hidden;padding: 0;position: absolute;width: 1px;}#sk-container-id-1 div.sk-estimator {font-family: monospace;background-color: #f0f8ff;border: 1px dotted black;border-radius: 0.25em;box-sizing: border-box;margin-bottom: 0.5em;}#sk-container-id-1 div.sk-estimator:hover {background-color: #d4ebff;}#sk-container-id-1 div.sk-parallel-item::after {content: \"\";width: 100%;border-bottom: 1px solid gray;flex-grow: 1;}#sk-container-id-1 div.sk-label:hover label.sk-toggleable__label {background-color: #d4ebff;}#sk-container-id-1 div.sk-serial::before {content: \"\";position: absolute;border-left: 1px solid gray;box-sizing: border-box;top: 0;bottom: 0;left: 50%;z-index: 0;}#sk-container-id-1 div.sk-serial {display: flex;flex-direction: column;align-items: center;background-color: white;padding-right: 0.2em;padding-left: 0.2em;position: relative;}#sk-container-id-1 div.sk-item {position: relative;z-index: 1;}#sk-container-id-1 div.sk-parallel {display: flex;align-items: stretch;justify-content: center;background-color: white;position: relative;}#sk-container-id-1 div.sk-item::before, #sk-container-id-1 div.sk-parallel-item::before {content: \"\";position: absolute;border-left: 1px solid gray;box-sizing: border-box;top: 0;bottom: 0;left: 50%;z-index: -1;}#sk-container-id-1 div.sk-parallel-item {display: flex;flex-direction: column;z-index: 1;position: relative;background-color: white;}#sk-container-id-1 div.sk-parallel-item:first-child::after {align-self: flex-end;width: 50%;}#sk-container-id-1 div.sk-parallel-item:last-child::after {align-self: flex-start;width: 50%;}#sk-container-id-1 div.sk-parallel-item:only-child::after {width: 0;}#sk-container-id-1 div.sk-dashed-wrapped {border: 1px dashed gray;margin: 0 0.4em 0.5em 0.4em;box-sizing: border-box;padding-bottom: 0.4em;background-color: white;}#sk-container-id-1 div.sk-label label {font-family: monospace;font-weight: bold;display: inline-block;line-height: 1.2em;}#sk-container-id-1 div.sk-label-container {text-align: center;}#sk-container-id-1 div.sk-container {/* jupyter's `normalize.less` sets `[hidden] { display: none; }` but bootstrap.min.css set `[hidden] { display: none !important; }` so we also need the `!important` here to be able to override the default hidden behavior on the sphinx rendered scikit-learn.org. See: https://github.com/scikit-learn/scikit-learn/issues/21755 */display: inline-block !important;position: relative;}#sk-container-id-1 div.sk-text-repr-fallback {display: none;}</style><div id=\"sk-container-id-1\" class=\"sk-top-container\"><div class=\"sk-text-repr-fallback\"><pre>KNeighborsClassifier()</pre><b>In a Jupyter environment, please rerun this cell to show the HTML representation or trust the notebook. <br />On GitHub, the HTML representation is unable to render, please try loading this page with nbviewer.org.</b></div><div class=\"sk-container\" hidden><div class=\"sk-item\"><div class=\"sk-estimator sk-toggleable\"><input class=\"sk-toggleable__control sk-hidden--visually\" id=\"sk-estimator-id-1\" type=\"checkbox\" checked><label for=\"sk-estimator-id-1\" class=\"sk-toggleable__label sk-toggleable__label-arrow\">KNeighborsClassifier</label><div class=\"sk-toggleable__content\"><pre>KNeighborsClassifier()</pre></div></div></div></div></div>"
      ],
      "text/plain": [
       "KNeighborsClassifier()"
      ]
     },
     "execution_count": 24,
     "metadata": {},
     "output_type": "execute_result"
    }
   ],
   "source": [
    "x=station_merged['AQI'].values.reshape(-1,1)\n",
    "y=station_merged['AQI_Bucket'].values\n",
    "\n",
    "x_train,x_test,y_train,y_test=train_test_split(x,y,test_size=0.2,random_state=42)\n",
    "\n",
    "model=KNeighborsClassifier()\n",
    "\n",
    "model.fit(x_train,y_train)\n",
    "\n"
   ]
  },
  {
   "cell_type": "code",
   "execution_count": 25,
   "id": "73679eee",
   "metadata": {
    "execution": {
     "iopub.execute_input": "2025-09-13T13:56:41.692881Z",
     "iopub.status.busy": "2025-09-13T13:56:41.692568Z",
     "iopub.status.idle": "2025-09-13T13:56:42.499265Z",
     "shell.execute_reply": "2025-09-13T13:56:42.498318Z"
    },
    "papermill": {
     "duration": 0.817545,
     "end_time": "2025-09-13T13:56:42.500810",
     "exception": false,
     "start_time": "2025-09-13T13:56:41.683265",
     "status": "completed"
    },
    "tags": []
   },
   "outputs": [
    {
     "data": {
      "text/plain": [
       "1.0"
      ]
     },
     "execution_count": 25,
     "metadata": {},
     "output_type": "execute_result"
    }
   ],
   "source": [
    "model.score(x_test,y_test)"
   ]
  },
  {
   "cell_type": "code",
   "execution_count": 26,
   "id": "8f8e4ca5",
   "metadata": {
    "execution": {
     "iopub.execute_input": "2025-09-13T13:56:42.520263Z",
     "iopub.status.busy": "2025-09-13T13:56:42.519870Z",
     "iopub.status.idle": "2025-09-13T13:56:43.685180Z",
     "shell.execute_reply": "2025-09-13T13:56:43.684245Z"
    },
    "papermill": {
     "duration": 1.177004,
     "end_time": "2025-09-13T13:56:43.686620",
     "exception": false,
     "start_time": "2025-09-13T13:56:42.509616",
     "status": "completed"
    },
    "tags": []
   },
   "outputs": [
    {
     "data": {
      "image/png": "[encoded data removed]",
      "text/plain": [
       "<Figure size 640x480 with 2 Axes>"
      ]
     },
     "metadata": {},
     "output_type": "display_data"
    }
   ],
   "source": [
    "cm=confusion_matrix(y_test,model.predict(x_test))\n",
    "plot=ConfusionMatrixDisplay(cm)\n",
    "plot.plot()\n",
    "plt.show()"
   ]
  },
  {
   "cell_type": "markdown",
   "id": "2afc530a",
   "metadata": {
    "papermill": {
     "duration": 0.008662,
     "end_time": "2025-09-13T13:56:43.704641",
     "exception": false,
     "start_time": "2025-09-13T13:56:43.695979",
     "status": "completed"
    },
    "tags": []
   },
   "source": [
    "## 2- for predicting hourly AQI Buckets"
   ]
  },
  {
   "cell_type": "code",
   "execution_count": 27,
   "id": "b47911e9",
   "metadata": {
    "execution": {
     "iopub.execute_input": "2025-09-13T13:56:43.723405Z",
     "iopub.status.busy": "2025-09-13T13:56:43.723107Z",
     "iopub.status.idle": "2025-09-13T13:56:45.566074Z",
     "shell.execute_reply": "2025-09-13T13:56:45.565335Z"
    },
    "papermill": {
     "duration": 1.854051,
     "end_time": "2025-09-13T13:56:45.567432",
     "exception": false,
     "start_time": "2025-09-13T13:56:43.713381",
     "status": "completed"
    },
    "tags": []
   },
   "outputs": [
    {
     "data": {
      "text/html": [
       "<div>\n",
       "<style scoped>\n",
       "    .dataframe tbody tr th:only-of-type {\n",
       "        vertical-align: middle;\n",
       "    }\n",
       "\n",
       "    .dataframe tbody tr th {\n",
       "        vertical-align: top;\n",
       "    }\n",
       "\n",
       "    .dataframe thead th {\n",
       "        text-align: right;\n",
       "    }\n",
       "</style>\n",
       "<table border=\"1\" class=\"dataframe\">\n",
       "  <thead>\n",
       "    <tr style=\"text-align: right;\">\n",
       "      <th></th>\n",
       "      <th>City</th>\n",
       "      <th>Datetime</th>\n",
       "      <th>PM2.5</th>\n",
       "      <th>PM10</th>\n",
       "      <th>NO</th>\n",
       "      <th>NO2</th>\n",
       "      <th>NOx</th>\n",
       "      <th>NH3</th>\n",
       "      <th>CO</th>\n",
       "      <th>SO2</th>\n",
       "      <th>O3</th>\n",
       "      <th>Benzene</th>\n",
       "      <th>Toluene</th>\n",
       "      <th>Xylene</th>\n",
       "      <th>AQI</th>\n",
       "      <th>AQI_Bucket</th>\n",
       "    </tr>\n",
       "  </thead>\n",
       "  <tbody>\n",
       "    <tr>\n",
       "      <th>0</th>\n",
       "      <td>Ahmedabad</td>\n",
       "      <td>2015-01-01 01:00:00</td>\n",
       "      <td>NaN</td>\n",
       "      <td>NaN</td>\n",
       "      <td>1.00</td>\n",
       "      <td>40.01</td>\n",
       "      <td>36.37</td>\n",
       "      <td>NaN</td>\n",
       "      <td>1.00</td>\n",
       "      <td>122.07</td>\n",
       "      <td>NaN</td>\n",
       "      <td>0.0</td>\n",
       "      <td>0.0</td>\n",
       "      <td>0.0</td>\n",
       "      <td>NaN</td>\n",
       "      <td>NaN</td>\n",
       "    </tr>\n",
       "    <tr>\n",
       "      <th>1</th>\n",
       "      <td>Ahmedabad</td>\n",
       "      <td>2015-01-01 02:00:00</td>\n",
       "      <td>NaN</td>\n",
       "      <td>NaN</td>\n",
       "      <td>0.02</td>\n",
       "      <td>27.75</td>\n",
       "      <td>19.73</td>\n",
       "      <td>NaN</td>\n",
       "      <td>0.02</td>\n",
       "      <td>85.90</td>\n",
       "      <td>NaN</td>\n",
       "      <td>0.0</td>\n",
       "      <td>0.0</td>\n",
       "      <td>0.0</td>\n",
       "      <td>NaN</td>\n",
       "      <td>NaN</td>\n",
       "    </tr>\n",
       "    <tr>\n",
       "      <th>2</th>\n",
       "      <td>Ahmedabad</td>\n",
       "      <td>2015-01-01 03:00:00</td>\n",
       "      <td>NaN</td>\n",
       "      <td>NaN</td>\n",
       "      <td>0.08</td>\n",
       "      <td>19.32</td>\n",
       "      <td>11.08</td>\n",
       "      <td>NaN</td>\n",
       "      <td>0.08</td>\n",
       "      <td>52.83</td>\n",
       "      <td>NaN</td>\n",
       "      <td>0.0</td>\n",
       "      <td>0.0</td>\n",
       "      <td>0.0</td>\n",
       "      <td>NaN</td>\n",
       "      <td>NaN</td>\n",
       "    </tr>\n",
       "    <tr>\n",
       "      <th>3</th>\n",
       "      <td>Ahmedabad</td>\n",
       "      <td>2015-01-01 04:00:00</td>\n",
       "      <td>NaN</td>\n",
       "      <td>NaN</td>\n",
       "      <td>0.30</td>\n",
       "      <td>16.45</td>\n",
       "      <td>9.20</td>\n",
       "      <td>NaN</td>\n",
       "      <td>0.30</td>\n",
       "      <td>39.53</td>\n",
       "      <td>153.58</td>\n",
       "      <td>0.0</td>\n",
       "      <td>0.0</td>\n",
       "      <td>0.0</td>\n",
       "      <td>NaN</td>\n",
       "      <td>NaN</td>\n",
       "    </tr>\n",
       "    <tr>\n",
       "      <th>4</th>\n",
       "      <td>Ahmedabad</td>\n",
       "      <td>2015-01-01 05:00:00</td>\n",
       "      <td>NaN</td>\n",
       "      <td>NaN</td>\n",
       "      <td>0.12</td>\n",
       "      <td>14.90</td>\n",
       "      <td>7.85</td>\n",
       "      <td>NaN</td>\n",
       "      <td>0.12</td>\n",
       "      <td>32.63</td>\n",
       "      <td>NaN</td>\n",
       "      <td>0.0</td>\n",
       "      <td>0.0</td>\n",
       "      <td>0.0</td>\n",
       "      <td>NaN</td>\n",
       "      <td>NaN</td>\n",
       "    </tr>\n",
       "  </tbody>\n",
       "</table>\n",
       "</div>"
      ],
      "text/plain": [
       "        City             Datetime  PM2.5  PM10    NO    NO2    NOx  NH3    CO  \\\n",
       "0  Ahmedabad  2015-01-01 01:00:00    NaN   NaN  1.00  40.01  36.37  NaN  1.00   \n",
       "1  Ahmedabad  2015-01-01 02:00:00    NaN   NaN  0.02  27.75  19.73  NaN  0.02   \n",
       "2  Ahmedabad  2015-01-01 03:00:00    NaN   NaN  0.08  19.32  11.08  NaN  0.08   \n",
       "3  Ahmedabad  2015-01-01 04:00:00    NaN   NaN  0.30  16.45   9.20  NaN  0.30   \n",
       "4  Ahmedabad  2015-01-01 05:00:00    NaN   NaN  0.12  14.90   7.85  NaN  0.12   \n",
       "\n",
       "      SO2      O3  Benzene  Toluene  Xylene  AQI AQI_Bucket  \n",
       "0  122.07     NaN      0.0      0.0     0.0  NaN        NaN  \n",
       "1   85.90     NaN      0.0      0.0     0.0  NaN        NaN  \n",
       "2   52.83     NaN      0.0      0.0     0.0  NaN        NaN  \n",
       "3   39.53  153.58      0.0      0.0     0.0  NaN        NaN  \n",
       "4   32.63     NaN      0.0      0.0     0.0  NaN        NaN  "
      ]
     },
     "execution_count": 27,
     "metadata": {},
     "output_type": "execute_result"
    }
   ],
   "source": [
    "city_hour=pd.read_csv('/kaggle/input/air-quality-data-in-india/city_hour.csv')\n",
    "city_hour.head()"
   ]
  },
  {
   "cell_type": "code",
   "execution_count": 28,
   "id": "44c7b214",
   "metadata": {
    "execution": {
     "iopub.execute_input": "2025-09-13T13:56:45.586830Z",
     "iopub.status.busy": "2025-09-13T13:56:45.586525Z",
     "iopub.status.idle": "2025-09-13T13:56:51.824356Z",
     "shell.execute_reply": "2025-09-13T13:56:51.823523Z"
    },
    "papermill": {
     "duration": 6.249062,
     "end_time": "2025-09-13T13:56:51.825730",
     "exception": false,
     "start_time": "2025-09-13T13:56:45.576668",
     "status": "completed"
    },
    "tags": []
   },
   "outputs": [
    {
     "data": {
      "text/html": [
       "<div>\n",
       "<style scoped>\n",
       "    .dataframe tbody tr th:only-of-type {\n",
       "        vertical-align: middle;\n",
       "    }\n",
       "\n",
       "    .dataframe tbody tr th {\n",
       "        vertical-align: top;\n",
       "    }\n",
       "\n",
       "    .dataframe thead th {\n",
       "        text-align: right;\n",
       "    }\n",
       "</style>\n",
       "<table border=\"1\" class=\"dataframe\">\n",
       "  <thead>\n",
       "    <tr style=\"text-align: right;\">\n",
       "      <th></th>\n",
       "      <th>StationId</th>\n",
       "      <th>Datetime</th>\n",
       "      <th>PM2.5</th>\n",
       "      <th>PM10</th>\n",
       "      <th>NO</th>\n",
       "      <th>NO2</th>\n",
       "      <th>NOx</th>\n",
       "      <th>NH3</th>\n",
       "      <th>CO</th>\n",
       "      <th>SO2</th>\n",
       "      <th>O3</th>\n",
       "      <th>Benzene</th>\n",
       "      <th>Toluene</th>\n",
       "      <th>Xylene</th>\n",
       "      <th>AQI</th>\n",
       "      <th>AQI_Bucket</th>\n",
       "    </tr>\n",
       "  </thead>\n",
       "  <tbody>\n",
       "    <tr>\n",
       "      <th>0</th>\n",
       "      <td>AP001</td>\n",
       "      <td>2017-11-24 17:00:00</td>\n",
       "      <td>60.50</td>\n",
       "      <td>98.00</td>\n",
       "      <td>2.35</td>\n",
       "      <td>30.80</td>\n",
       "      <td>18.25</td>\n",
       "      <td>8.50</td>\n",
       "      <td>0.1</td>\n",
       "      <td>11.85</td>\n",
       "      <td>126.40</td>\n",
       "      <td>0.1</td>\n",
       "      <td>6.10</td>\n",
       "      <td>0.10</td>\n",
       "      <td>NaN</td>\n",
       "      <td>NaN</td>\n",
       "    </tr>\n",
       "    <tr>\n",
       "      <th>1</th>\n",
       "      <td>AP001</td>\n",
       "      <td>2017-11-24 18:00:00</td>\n",
       "      <td>65.50</td>\n",
       "      <td>111.25</td>\n",
       "      <td>2.70</td>\n",
       "      <td>24.20</td>\n",
       "      <td>15.07</td>\n",
       "      <td>9.77</td>\n",
       "      <td>0.1</td>\n",
       "      <td>13.17</td>\n",
       "      <td>117.12</td>\n",
       "      <td>0.1</td>\n",
       "      <td>6.25</td>\n",
       "      <td>0.15</td>\n",
       "      <td>NaN</td>\n",
       "      <td>NaN</td>\n",
       "    </tr>\n",
       "    <tr>\n",
       "      <th>2</th>\n",
       "      <td>AP001</td>\n",
       "      <td>2017-11-24 19:00:00</td>\n",
       "      <td>80.00</td>\n",
       "      <td>132.00</td>\n",
       "      <td>2.10</td>\n",
       "      <td>25.18</td>\n",
       "      <td>15.15</td>\n",
       "      <td>12.02</td>\n",
       "      <td>0.1</td>\n",
       "      <td>12.08</td>\n",
       "      <td>98.98</td>\n",
       "      <td>0.2</td>\n",
       "      <td>5.98</td>\n",
       "      <td>0.18</td>\n",
       "      <td>NaN</td>\n",
       "      <td>NaN</td>\n",
       "    </tr>\n",
       "    <tr>\n",
       "      <th>3</th>\n",
       "      <td>AP001</td>\n",
       "      <td>2017-11-24 20:00:00</td>\n",
       "      <td>81.50</td>\n",
       "      <td>133.25</td>\n",
       "      <td>1.95</td>\n",
       "      <td>16.25</td>\n",
       "      <td>10.23</td>\n",
       "      <td>11.58</td>\n",
       "      <td>0.1</td>\n",
       "      <td>10.47</td>\n",
       "      <td>112.20</td>\n",
       "      <td>0.2</td>\n",
       "      <td>6.72</td>\n",
       "      <td>0.10</td>\n",
       "      <td>NaN</td>\n",
       "      <td>NaN</td>\n",
       "    </tr>\n",
       "    <tr>\n",
       "      <th>4</th>\n",
       "      <td>AP001</td>\n",
       "      <td>2017-11-24 21:00:00</td>\n",
       "      <td>75.25</td>\n",
       "      <td>116.00</td>\n",
       "      <td>1.43</td>\n",
       "      <td>17.48</td>\n",
       "      <td>10.43</td>\n",
       "      <td>12.03</td>\n",
       "      <td>0.1</td>\n",
       "      <td>9.12</td>\n",
       "      <td>106.35</td>\n",
       "      <td>0.2</td>\n",
       "      <td>5.75</td>\n",
       "      <td>0.08</td>\n",
       "      <td>NaN</td>\n",
       "      <td>NaN</td>\n",
       "    </tr>\n",
       "  </tbody>\n",
       "</table>\n",
       "</div>"
      ],
      "text/plain": [
       "  StationId             Datetime  PM2.5    PM10    NO    NO2    NOx    NH3  \\\n",
       "0     AP001  2017-11-24 17:00:00  60.50   98.00  2.35  30.80  18.25   8.50   \n",
       "1     AP001  2017-11-24 18:00:00  65.50  111.25  2.70  24.20  15.07   9.77   \n",
       "2     AP001  2017-11-24 19:00:00  80.00  132.00  2.10  25.18  15.15  12.02   \n",
       "3     AP001  2017-11-24 20:00:00  81.50  133.25  1.95  16.25  10.23  11.58   \n",
       "4     AP001  2017-11-24 21:00:00  75.25  116.00  1.43  17.48  10.43  12.03   \n",
       "\n",
       "    CO    SO2      O3  Benzene  Toluene  Xylene  AQI AQI_Bucket  \n",
       "0  0.1  11.85  126.40      0.1     6.10    0.10  NaN        NaN  \n",
       "1  0.1  13.17  117.12      0.1     6.25    0.15  NaN        NaN  \n",
       "2  0.1  12.08   98.98      0.2     5.98    0.18  NaN        NaN  \n",
       "3  0.1  10.47  112.20      0.2     6.72    0.10  NaN        NaN  \n",
       "4  0.1   9.12  106.35      0.2     5.75    0.08  NaN        NaN  "
      ]
     },
     "execution_count": 28,
     "metadata": {},
     "output_type": "execute_result"
    }
   ],
   "source": [
    "station_hour=pd.read_csv('/kaggle/input/air-quality-data-in-india/station_hour.csv')\n",
    "station_hour.head()"
   ]
  },
  {
   "cell_type": "code",
   "execution_count": 29,
   "id": "b6d98807",
   "metadata": {
    "execution": {
     "iopub.execute_input": "2025-09-13T13:56:51.846561Z",
     "iopub.status.busy": "2025-09-13T13:56:51.845690Z",
     "iopub.status.idle": "2025-09-13T13:56:52.568677Z",
     "shell.execute_reply": "2025-09-13T13:56:52.567731Z"
    },
    "papermill": {
     "duration": 0.734885,
     "end_time": "2025-09-13T13:56:52.570086",
     "exception": false,
     "start_time": "2025-09-13T13:56:51.835201",
     "status": "completed"
    },
    "tags": []
   },
   "outputs": [
    {
     "data": {
      "text/html": [
       "<div>\n",
       "<style scoped>\n",
       "    .dataframe tbody tr th:only-of-type {\n",
       "        vertical-align: middle;\n",
       "    }\n",
       "\n",
       "    .dataframe tbody tr th {\n",
       "        vertical-align: top;\n",
       "    }\n",
       "\n",
       "    .dataframe thead th {\n",
       "        text-align: right;\n",
       "    }\n",
       "</style>\n",
       "<table border=\"1\" class=\"dataframe\">\n",
       "  <thead>\n",
       "    <tr style=\"text-align: right;\">\n",
       "      <th></th>\n",
       "      <th>StationId</th>\n",
       "      <th>Datetime</th>\n",
       "      <th>PM2.5</th>\n",
       "      <th>PM10</th>\n",
       "      <th>NO</th>\n",
       "      <th>NO2</th>\n",
       "      <th>NOx</th>\n",
       "      <th>NH3</th>\n",
       "      <th>CO</th>\n",
       "      <th>SO2</th>\n",
       "      <th>O3</th>\n",
       "      <th>Benzene</th>\n",
       "      <th>Toluene</th>\n",
       "      <th>Xylene</th>\n",
       "      <th>AQI</th>\n",
       "      <th>AQI_Bucket</th>\n",
       "      <th>StationName</th>\n",
       "      <th>City</th>\n",
       "      <th>State</th>\n",
       "      <th>Status</th>\n",
       "    </tr>\n",
       "  </thead>\n",
       "  <tbody>\n",
       "    <tr>\n",
       "      <th>0</th>\n",
       "      <td>AP001</td>\n",
       "      <td>2017-11-24 17:00:00</td>\n",
       "      <td>60.50</td>\n",
       "      <td>98.00</td>\n",
       "      <td>2.35</td>\n",
       "      <td>30.80</td>\n",
       "      <td>18.25</td>\n",
       "      <td>8.50</td>\n",
       "      <td>0.10</td>\n",
       "      <td>11.85</td>\n",
       "      <td>126.40</td>\n",
       "      <td>0.10</td>\n",
       "      <td>6.10</td>\n",
       "      <td>0.10</td>\n",
       "      <td>NaN</td>\n",
       "      <td>NaN</td>\n",
       "      <td>Secretariat, Amaravati - APPCB</td>\n",
       "      <td>Amaravati</td>\n",
       "      <td>Andhra Pradesh</td>\n",
       "      <td>Active</td>\n",
       "    </tr>\n",
       "    <tr>\n",
       "      <th>1</th>\n",
       "      <td>AP001</td>\n",
       "      <td>2017-11-24 18:00:00</td>\n",
       "      <td>65.50</td>\n",
       "      <td>111.25</td>\n",
       "      <td>2.70</td>\n",
       "      <td>24.20</td>\n",
       "      <td>15.07</td>\n",
       "      <td>9.77</td>\n",
       "      <td>0.10</td>\n",
       "      <td>13.17</td>\n",
       "      <td>117.12</td>\n",
       "      <td>0.10</td>\n",
       "      <td>6.25</td>\n",
       "      <td>0.15</td>\n",
       "      <td>NaN</td>\n",
       "      <td>NaN</td>\n",
       "      <td>Secretariat, Amaravati - APPCB</td>\n",
       "      <td>Amaravati</td>\n",
       "      <td>Andhra Pradesh</td>\n",
       "      <td>Active</td>\n",
       "    </tr>\n",
       "    <tr>\n",
       "      <th>2</th>\n",
       "      <td>AP001</td>\n",
       "      <td>2017-11-24 19:00:00</td>\n",
       "      <td>80.00</td>\n",
       "      <td>132.00</td>\n",
       "      <td>2.10</td>\n",
       "      <td>25.18</td>\n",
       "      <td>15.15</td>\n",
       "      <td>12.02</td>\n",
       "      <td>0.10</td>\n",
       "      <td>12.08</td>\n",
       "      <td>98.98</td>\n",
       "      <td>0.20</td>\n",
       "      <td>5.98</td>\n",
       "      <td>0.18</td>\n",
       "      <td>NaN</td>\n",
       "      <td>NaN</td>\n",
       "      <td>Secretariat, Amaravati - APPCB</td>\n",
       "      <td>Amaravati</td>\n",
       "      <td>Andhra Pradesh</td>\n",
       "      <td>Active</td>\n",
       "    </tr>\n",
       "    <tr>\n",
       "      <th>3</th>\n",
       "      <td>AP001</td>\n",
       "      <td>2017-11-24 20:00:00</td>\n",
       "      <td>81.50</td>\n",
       "      <td>133.25</td>\n",
       "      <td>1.95</td>\n",
       "      <td>16.25</td>\n",
       "      <td>10.23</td>\n",
       "      <td>11.58</td>\n",
       "      <td>0.10</td>\n",
       "      <td>10.47</td>\n",
       "      <td>112.20</td>\n",
       "      <td>0.20</td>\n",
       "      <td>6.72</td>\n",
       "      <td>0.10</td>\n",
       "      <td>NaN</td>\n",
       "      <td>NaN</td>\n",
       "      <td>Secretariat, Amaravati - APPCB</td>\n",
       "      <td>Amaravati</td>\n",
       "      <td>Andhra Pradesh</td>\n",
       "      <td>Active</td>\n",
       "    </tr>\n",
       "    <tr>\n",
       "      <th>4</th>\n",
       "      <td>AP001</td>\n",
       "      <td>2017-11-24 21:00:00</td>\n",
       "      <td>75.25</td>\n",
       "      <td>116.00</td>\n",
       "      <td>1.43</td>\n",
       "      <td>17.48</td>\n",
       "      <td>10.43</td>\n",
       "      <td>12.03</td>\n",
       "      <td>0.10</td>\n",
       "      <td>9.12</td>\n",
       "      <td>106.35</td>\n",
       "      <td>0.20</td>\n",
       "      <td>5.75</td>\n",
       "      <td>0.08</td>\n",
       "      <td>NaN</td>\n",
       "      <td>NaN</td>\n",
       "      <td>Secretariat, Amaravati - APPCB</td>\n",
       "      <td>Amaravati</td>\n",
       "      <td>Andhra Pradesh</td>\n",
       "      <td>Active</td>\n",
       "    </tr>\n",
       "    <tr>\n",
       "      <th>...</th>\n",
       "      <td>...</td>\n",
       "      <td>...</td>\n",
       "      <td>...</td>\n",
       "      <td>...</td>\n",
       "      <td>...</td>\n",
       "      <td>...</td>\n",
       "      <td>...</td>\n",
       "      <td>...</td>\n",
       "      <td>...</td>\n",
       "      <td>...</td>\n",
       "      <td>...</td>\n",
       "      <td>...</td>\n",
       "      <td>...</td>\n",
       "      <td>...</td>\n",
       "      <td>...</td>\n",
       "      <td>...</td>\n",
       "      <td>...</td>\n",
       "      <td>...</td>\n",
       "      <td>...</td>\n",
       "      <td>...</td>\n",
       "    </tr>\n",
       "    <tr>\n",
       "      <th>2589078</th>\n",
       "      <td>WB013</td>\n",
       "      <td>2020-06-30 20:00:00</td>\n",
       "      <td>15.55</td>\n",
       "      <td>47.80</td>\n",
       "      <td>7.27</td>\n",
       "      <td>35.08</td>\n",
       "      <td>42.38</td>\n",
       "      <td>31.25</td>\n",
       "      <td>0.80</td>\n",
       "      <td>9.40</td>\n",
       "      <td>17.24</td>\n",
       "      <td>2.56</td>\n",
       "      <td>11.57</td>\n",
       "      <td>NaN</td>\n",
       "      <td>59.0</td>\n",
       "      <td>Satisfactory</td>\n",
       "      <td>Victoria, Kolkata - WBPCB</td>\n",
       "      <td>Kolkata</td>\n",
       "      <td>West Bengal</td>\n",
       "      <td>Active</td>\n",
       "    </tr>\n",
       "    <tr>\n",
       "      <th>2589079</th>\n",
       "      <td>WB013</td>\n",
       "      <td>2020-06-30 21:00:00</td>\n",
       "      <td>15.23</td>\n",
       "      <td>42.30</td>\n",
       "      <td>6.10</td>\n",
       "      <td>26.78</td>\n",
       "      <td>32.85</td>\n",
       "      <td>30.66</td>\n",
       "      <td>0.56</td>\n",
       "      <td>4.91</td>\n",
       "      <td>17.46</td>\n",
       "      <td>3.49</td>\n",
       "      <td>12.29</td>\n",
       "      <td>NaN</td>\n",
       "      <td>59.0</td>\n",
       "      <td>Satisfactory</td>\n",
       "      <td>Victoria, Kolkata - WBPCB</td>\n",
       "      <td>Kolkata</td>\n",
       "      <td>West Bengal</td>\n",
       "      <td>Active</td>\n",
       "    </tr>\n",
       "    <tr>\n",
       "      <th>2589080</th>\n",
       "      <td>WB013</td>\n",
       "      <td>2020-06-30 22:00:00</td>\n",
       "      <td>11.40</td>\n",
       "      <td>40.95</td>\n",
       "      <td>6.58</td>\n",
       "      <td>19.53</td>\n",
       "      <td>26.12</td>\n",
       "      <td>30.73</td>\n",
       "      <td>0.61</td>\n",
       "      <td>3.81</td>\n",
       "      <td>17.24</td>\n",
       "      <td>1.83</td>\n",
       "      <td>8.88</td>\n",
       "      <td>NaN</td>\n",
       "      <td>59.0</td>\n",
       "      <td>Satisfactory</td>\n",
       "      <td>Victoria, Kolkata - WBPCB</td>\n",
       "      <td>Kolkata</td>\n",
       "      <td>West Bengal</td>\n",
       "      <td>Active</td>\n",
       "    </tr>\n",
       "    <tr>\n",
       "      <th>2589081</th>\n",
       "      <td>WB013</td>\n",
       "      <td>2020-06-30 23:00:00</td>\n",
       "      <td>9.25</td>\n",
       "      <td>34.33</td>\n",
       "      <td>9.17</td>\n",
       "      <td>21.85</td>\n",
       "      <td>31.00</td>\n",
       "      <td>29.61</td>\n",
       "      <td>0.65</td>\n",
       "      <td>3.44</td>\n",
       "      <td>12.74</td>\n",
       "      <td>1.40</td>\n",
       "      <td>8.43</td>\n",
       "      <td>NaN</td>\n",
       "      <td>59.0</td>\n",
       "      <td>Satisfactory</td>\n",
       "      <td>Victoria, Kolkata - WBPCB</td>\n",
       "      <td>Kolkata</td>\n",
       "      <td>West Bengal</td>\n",
       "      <td>Active</td>\n",
       "    </tr>\n",
       "    <tr>\n",
       "      <th>2589082</th>\n",
       "      <td>WB013</td>\n",
       "      <td>2020-07-01 00:00:00</td>\n",
       "      <td>10.50</td>\n",
       "      <td>36.50</td>\n",
       "      <td>7.78</td>\n",
       "      <td>22.50</td>\n",
       "      <td>30.25</td>\n",
       "      <td>27.23</td>\n",
       "      <td>0.58</td>\n",
       "      <td>2.80</td>\n",
       "      <td>13.10</td>\n",
       "      <td>1.31</td>\n",
       "      <td>7.39</td>\n",
       "      <td>NaN</td>\n",
       "      <td>59.0</td>\n",
       "      <td>Satisfactory</td>\n",
       "      <td>Victoria, Kolkata - WBPCB</td>\n",
       "      <td>Kolkata</td>\n",
       "      <td>West Bengal</td>\n",
       "      <td>Active</td>\n",
       "    </tr>\n",
       "  </tbody>\n",
       "</table>\n",
       "<p>2589083 rows × 20 columns</p>\n",
       "</div>"
      ],
      "text/plain": [
       "        StationId             Datetime  PM2.5    PM10    NO    NO2    NOx  \\\n",
       "0           AP001  2017-11-24 17:00:00  60.50   98.00  2.35  30.80  18.25   \n",
       "1           AP001  2017-11-24 18:00:00  65.50  111.25  2.70  24.20  15.07   \n",
       "2           AP001  2017-11-24 19:00:00  80.00  132.00  2.10  25.18  15.15   \n",
       "3           AP001  2017-11-24 20:00:00  81.50  133.25  1.95  16.25  10.23   \n",
       "4           AP001  2017-11-24 21:00:00  75.25  116.00  1.43  17.48  10.43   \n",
       "...           ...                  ...    ...     ...   ...    ...    ...   \n",
       "2589078     WB013  2020-06-30 20:00:00  15.55   47.80  7.27  35.08  42.38   \n",
       "2589079     WB013  2020-06-30 21:00:00  15.23   42.30  6.10  26.78  32.85   \n",
       "2589080     WB013  2020-06-30 22:00:00  11.40   40.95  6.58  19.53  26.12   \n",
       "2589081     WB013  2020-06-30 23:00:00   9.25   34.33  9.17  21.85  31.00   \n",
       "2589082     WB013  2020-07-01 00:00:00  10.50   36.50  7.78  22.50  30.25   \n",
       "\n",
       "           NH3    CO    SO2      O3  Benzene  Toluene  Xylene   AQI  \\\n",
       "0         8.50  0.10  11.85  126.40     0.10     6.10    0.10   NaN   \n",
       "1         9.77  0.10  13.17  117.12     0.10     6.25    0.15   NaN   \n",
       "2        12.02  0.10  12.08   98.98     0.20     5.98    0.18   NaN   \n",
       "3        11.58  0.10  10.47  112.20     0.20     6.72    0.10   NaN   \n",
       "4        12.03  0.10   9.12  106.35     0.20     5.75    0.08   NaN   \n",
       "...        ...   ...    ...     ...      ...      ...     ...   ...   \n",
       "2589078  31.25  0.80   9.40   17.24     2.56    11.57     NaN  59.0   \n",
       "2589079  30.66  0.56   4.91   17.46     3.49    12.29     NaN  59.0   \n",
       "2589080  30.73  0.61   3.81   17.24     1.83     8.88     NaN  59.0   \n",
       "2589081  29.61  0.65   3.44   12.74     1.40     8.43     NaN  59.0   \n",
       "2589082  27.23  0.58   2.80   13.10     1.31     7.39     NaN  59.0   \n",
       "\n",
       "           AQI_Bucket                     StationName       City  \\\n",
       "0                 NaN  Secretariat, Amaravati - APPCB  Amaravati   \n",
       "1                 NaN  Secretariat, Amaravati - APPCB  Amaravati   \n",
       "2                 NaN  Secretariat, Amaravati - APPCB  Amaravati   \n",
       "3                 NaN  Secretariat, Amaravati - APPCB  Amaravati   \n",
       "4                 NaN  Secretariat, Amaravati - APPCB  Amaravati   \n",
       "...               ...                             ...        ...   \n",
       "2589078  Satisfactory       Victoria, Kolkata - WBPCB    Kolkata   \n",
       "2589079  Satisfactory       Victoria, Kolkata - WBPCB    Kolkata   \n",
       "2589080  Satisfactory       Victoria, Kolkata - WBPCB    Kolkata   \n",
       "2589081  Satisfactory       Victoria, Kolkata - WBPCB    Kolkata   \n",
       "2589082  Satisfactory       Victoria, Kolkata - WBPCB    Kolkata   \n",
       "\n",
       "                  State  Status  \n",
       "0        Andhra Pradesh  Active  \n",
       "1        Andhra Pradesh  Active  \n",
       "2        Andhra Pradesh  Active  \n",
       "3        Andhra Pradesh  Active  \n",
       "4        Andhra Pradesh  Active  \n",
       "...                 ...     ...  \n",
       "2589078     West Bengal  Active  \n",
       "2589079     West Bengal  Active  \n",
       "2589080     West Bengal  Active  \n",
       "2589081     West Bengal  Active  \n",
       "2589082     West Bengal  Active  \n",
       "\n",
       "[2589083 rows x 20 columns]"
      ]
     },
     "execution_count": 29,
     "metadata": {},
     "output_type": "execute_result"
    }
   ],
   "source": [
    "station_merged_hour=station_hour.merge(stations,on='StationId',how='left')\n",
    "station_merged_hour"
   ]
  },
  {
   "cell_type": "code",
   "execution_count": 30,
   "id": "c8a6bb1a",
   "metadata": {
    "execution": {
     "iopub.execute_input": "2025-09-13T13:56:52.591300Z",
     "iopub.status.busy": "2025-09-13T13:56:52.590729Z",
     "iopub.status.idle": "2025-09-13T13:56:52.927497Z",
     "shell.execute_reply": "2025-09-13T13:56:52.926615Z"
    },
    "papermill": {
     "duration": 0.34906,
     "end_time": "2025-09-13T13:56:52.929148",
     "exception": false,
     "start_time": "2025-09-13T13:56:52.580088",
     "status": "completed"
    },
    "tags": []
   },
   "outputs": [],
   "source": [
    "station_merged_hour.dropna(subset='AQI',inplace=True)"
   ]
  },
  {
   "cell_type": "code",
   "execution_count": 31,
   "id": "0823deaa",
   "metadata": {
    "execution": {
     "iopub.execute_input": "2025-09-13T13:56:52.950225Z",
     "iopub.status.busy": "2025-09-13T13:56:52.949914Z",
     "iopub.status.idle": "2025-09-13T13:56:53.720614Z",
     "shell.execute_reply": "2025-09-13T13:56:53.719799Z"
    },
    "papermill": {
     "duration": 0.782867,
     "end_time": "2025-09-13T13:56:53.721999",
     "exception": false,
     "start_time": "2025-09-13T13:56:52.939132",
     "status": "completed"
    },
    "tags": []
   },
   "outputs": [
    {
     "data": {
      "text/plain": [
       "StationId            0\n",
       "Datetime             0\n",
       "PM2.5           138787\n",
       "PM10            597086\n",
       "NO              124498\n",
       "NO2              99059\n",
       "NOx             157440\n",
       "NH3             734261\n",
       "CO              170834\n",
       "SO2             294848\n",
       "O3              274286\n",
       "Benzene         510708\n",
       "Toluene         670687\n",
       "Xylene         1585481\n",
       "AQI                  0\n",
       "AQI_Bucket           0\n",
       "StationName      29134\n",
       "City             29134\n",
       "State            29134\n",
       "Status           29134\n",
       "dtype: int64"
      ]
     },
     "execution_count": 31,
     "metadata": {},
     "output_type": "execute_result"
    }
   ],
   "source": [
    "station_merged_hour.isna().sum()"
   ]
  },
  {
   "cell_type": "markdown",
   "id": "c5d1c895",
   "metadata": {
    "papermill": {
     "duration": 0.009626,
     "end_time": "2025-09-13T13:56:53.741998",
     "exception": false,
     "start_time": "2025-09-13T13:56:53.732372",
     "status": "completed"
    },
    "tags": []
   },
   "source": [
    "## 2.1 evaluate the model depend on AQI index"
   ]
  },
  {
   "cell_type": "code",
   "execution_count": 32,
   "id": "a9436433",
   "metadata": {
    "execution": {
     "iopub.execute_input": "2025-09-13T13:56:53.763124Z",
     "iopub.status.busy": "2025-09-13T13:56:53.762234Z",
     "iopub.status.idle": "2025-09-13T13:58:26.077067Z",
     "shell.execute_reply": "2025-09-13T13:58:26.076236Z"
    },
    "papermill": {
     "duration": 92.336568,
     "end_time": "2025-09-13T13:58:26.088364",
     "exception": false,
     "start_time": "2025-09-13T13:56:53.751796",
     "status": "completed"
    },
    "tags": []
   },
   "outputs": [
    {
     "data": {
      "text/plain": [
       "'              precision    recall  f1-score   support\\n\\n           0       1.00      1.00      1.00    152113\\n           1       1.00      1.00      1.00    675008\\n           2       1.00      1.00      1.00    239990\\n           3       1.00      1.00      1.00    530164\\n           4       1.00      1.00      1.00    120468\\n           5       1.00      1.00      1.00    301150\\n\\n    accuracy                           1.00   2018893\\n   macro avg       1.00      1.00      1.00   2018893\\nweighted avg       1.00      1.00      1.00   2018893\\n'"
      ]
     },
     "execution_count": 32,
     "metadata": {},
     "output_type": "execute_result"
    }
   ],
   "source": [
    "le=encoders['AQI_Bucket']\n",
    "station_merged_hour['AQI_Bucket']=le.transform(station_merged_hour['AQI_Bucket'])\n",
    "\n",
    "x=station_merged_hour['AQI'].values.reshape(-1,1)\n",
    "y=station_merged_hour['AQI_Bucket'].values\n",
    "\n",
    "y_pred=model.predict(x)\n",
    "\n",
    "classification_report(y,y_pred)\n"
   ]
  },
  {
   "cell_type": "code",
   "execution_count": 33,
   "id": "7fac8c33",
   "metadata": {
    "execution": {
     "iopub.execute_input": "2025-09-13T13:58:26.108986Z",
     "iopub.status.busy": "2025-09-13T13:58:26.108707Z",
     "iopub.status.idle": "2025-09-13T13:58:28.512152Z",
     "shell.execute_reply": "2025-09-13T13:58:28.511121Z"
    },
    "papermill": {
     "duration": 2.41548,
     "end_time": "2025-09-13T13:58:28.513526",
     "exception": false,
     "start_time": "2025-09-13T13:58:26.098046",
     "status": "completed"
    },
    "tags": []
   },
   "outputs": [
    {
     "name": "stdout",
     "output_type": "stream",
     "text": [
      "              precision    recall  f1-score   support\n",
      "\n",
      "           0       1.00      1.00      1.00    152113\n",
      "           1       1.00      1.00      1.00    675008\n",
      "           2       1.00      1.00      1.00    239990\n",
      "           3       1.00      1.00      1.00    530164\n",
      "           4       1.00      1.00      1.00    120468\n",
      "           5       1.00      1.00      1.00    301150\n",
      "\n",
      "    accuracy                           1.00   2018893\n",
      "   macro avg       1.00      1.00      1.00   2018893\n",
      "weighted avg       1.00      1.00      1.00   2018893\n",
      "\n"
     ]
    }
   ],
   "source": [
    "print(classification_report(y,y_pred))"
   ]
  },
  {
   "cell_type": "code",
   "execution_count": 34,
   "id": "528c3952",
   "metadata": {
    "execution": {
     "iopub.execute_input": "2025-09-13T13:58:28.535037Z",
     "iopub.status.busy": "2025-09-13T13:58:28.534278Z",
     "iopub.status.idle": "2025-09-13T13:58:29.002500Z",
     "shell.execute_reply": "2025-09-13T13:58:29.001702Z"
    },
    "papermill": {
     "duration": 0.480454,
     "end_time": "2025-09-13T13:58:29.004026",
     "exception": false,
     "start_time": "2025-09-13T13:58:28.523572",
     "status": "completed"
    },
    "tags": []
   },
   "outputs": [
    {
     "data": {
      "image/png": "[encoded data removed]",
      "text/plain": [
       "<Figure size 640x480 with 2 Axes>"
      ]
     },
     "metadata": {},
     "output_type": "display_data"
    }
   ],
   "source": [
    "cm=confusion_matrix(y,y_pred)\n",
    "plot=ConfusionMatrixDisplay(cm)\n",
    "plot.plot()\n",
    "plt.show()"
   ]
  },
  {
   "cell_type": "markdown",
   "id": "78fcb707",
   "metadata": {
    "papermill": {
     "duration": 0.010408,
     "end_time": "2025-09-13T13:58:29.025231",
     "exception": false,
     "start_time": "2025-09-13T13:58:29.014823",
     "status": "completed"
    },
    "tags": []
   },
   "source": [
    "## note: AQI Bucket depend on AQI Only"
   ]
  },
  {
   "cell_type": "code",
   "execution_count": null,
   "id": "079ebbc8",
   "metadata": {
    "papermill": {
     "duration": 0.010268,
     "end_time": "2025-09-13T13:58:29.045974",
     "exception": false,
     "start_time": "2025-09-13T13:58:29.035706",
     "status": "completed"
    },
    "tags": []
   },
   "outputs": [],
   "source": []
  }
 ],
 "metadata": {
  "kaggle": {
   "accelerator": "none",
   "dataSources": [
    {
     "datasetId": 630055,
     "sourceId": 1377609,
     "sourceType": "datasetVersion"
    }
   ],
   "dockerImageVersionId": 31089,
   "isGpuEnabled": false,
   "isInternetEnabled": true,
   "language": "python",
   "sourceType": "notebook"
  },
  "kernelspec": {
   "display_name": "Python 3",
   "language": "python",
   "name": "python3"
  },
  "language_info": {
   "codemirror_mode": {
    "name": "ipython",
    "version": 3
   },
   "file_extension": ".py",
   "mimetype": "text/x-python",
   "name": "python",
   "nbconvert_exporter": "python",
   "pygments_lexer": "ipython3",
   "version": "3.11.13"
  },
  "papermill": {
   "default_parameters": {},
   "duration": 118.134774,
   "end_time": "2025-09-13T13:58:29.875897",
   "environment_variables": {},
   "exception": null,
   "input_path": "__notebook__.ipynb",
   "output_path": "__notebook__.ipynb",
   "parameters": {},
   "start_time": "2025-09-13T13:56:31.741123",
   "version": "2.6.0"
  }
 },
 "nbformat": 4,
 "nbformat_minor": 5
}
